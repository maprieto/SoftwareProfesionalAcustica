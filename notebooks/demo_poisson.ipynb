{
 "cells": [
  {
   "cell_type": "markdown",
   "metadata": {},
   "source": [
    "# Poisson equation\n",
    "\n",
    "This demo is implemented in a single Python file, `demo_poisson.py`,\n",
    "which contains both the variational forms and the solver. This Jupyter notebook has been created directly from\n",
    "the FEniCS documented demo related to the Poisson equation (see [FEniCS Documentation][1])\n",
    "\n",
    "[1]: https://fenicsproject.org/olddocs/dolfin/latest/python/demos/poisson/demo_poisson.py.html\n",
    "\n",
    "This demo illustrates how to:\n",
    "\n",
    "-   Solve a linear partial differential equation\n",
    "-   Create and apply Dirichlet boundary conditions\n",
    "-   Define Expressions\n",
    "-   Define a FunctionSpace\n",
    "-   Create a SubDomain\n",
    "\n",
    "## Equation and problem definition\n",
    "\n",
    "The Poisson equation is the canonical elliptic partial differential\n",
    "equation. For a domain $\\Omega \\subset \\mathbb{R}^n$ with boundary\n",
    "$\\partial \\Omega = \\Gamma_{D} \\cup \\Gamma_{N}$, the Poisson equation\n",
    "with particular boundary conditions reads:\n",
    "\n",
    "$$\\begin{aligned}\n",
    "- \\nabla^{2} u &= f \\quad {\\rm in} \\ \\Omega, \\\\\n",
    "u &= 0 \\quad {\\rm on} \\ \\Gamma_{D}, \\\\\n",
    "\\nabla u \\cdot n &= g \\quad {\\rm on} \\ \\Gamma_{N}. \\\\\n",
    "\\end{aligned}$$\n",
    "\n",
    "Here, $f$ and $g$ are input data and $n$ denotes the outward directed\n",
    "boundary normal. The most standard variational form of Poisson equation\n",
    "reads: find $u \\in V$ such that\n",
    "\n",
    "$$a(u, v) = L(v) \\quad \\forall \\ v \\in V,$$\n",
    "\n",
    "where $V$ is a suitable function space and\n",
    "\n",
    "$$\\begin{aligned}\n",
    "a(u, v) &= \\int_{\\Omega} \\nabla u \\cdot \\nabla v \\, {\\rm d} x, \\\\\n",
    "L(v)    &= \\int_{\\Omega} f v \\, {\\rm d} x\n",
    "+ \\int_{\\Gamma_{N}} g v \\, {\\rm d} s.\n",
    "\\end{aligned}$$\n",
    "\n",
    "The expression $a(u, v)$ is the bilinear form and $L(v)$ is the linear\n",
    "form. It is assumed that all functions in $V$ satisfy the Dirichlet\n",
    "boundary conditions $u = 0$ on $\\Gamma_D$.\n",
    "\n",
    "In this demo, we shall consider the following definitions of the input\n",
    "functions, the domain, and the boundaries:\n",
    "\n",
    "-   $\\Omega = [0,1] \\times [0,1]$ (a unit square)\n",
    "-   $\\Gamma_{D} = \\{(0, y) \\cup (1, y) \\subset \\partial \\Omega\\}$\n",
    "    (Dirichlet boundary)\n",
    "-   $\\Gamma_{N} = \\{(x, 0) \\cup (x, 1) \\subset \\partial \\Omega\\}$\n",
    "    (Neumann boundary)\n",
    "-   $g = \\sin(5x)$ (normal derivative)\n",
    "-   $f = 10\\exp(-((x - 0.5)^2 + (y - 0.5)^2) / 0.02)$ (source term)\n",
    "\n",
    "## Implementation\n",
    "\n",
    "This description goes through the implementation (in `demo_poisson.py`)\n",
    "of a solver for the above described Poisson equation step-by-step.\n",
    "\n",
    "First, the `dolfin` module is imported:"
   ]
  },
  {
   "cell_type": "code",
   "execution_count": 1,
   "metadata": {},
   "outputs": [],
   "source": [
    "from dolfin import *"
   ]
  },
  {
   "cell_type": "markdown",
   "metadata": {},
   "source": [
    "We begin by defining a mesh of the domain and a finite element function\n",
    "space $V$ relative to this mesh. As the unit square is a very standard\n",
    "domain, we can use a built-in mesh provided by the class\n",
    "`UnitSquareMesh`. In order to create a\n",
    "mesh consisting of 32 x 32 squares with each square divided into two\n",
    "triangles, we do as follows :"
   ]
  },
  {
   "cell_type": "code",
   "execution_count": 2,
   "metadata": {},
   "outputs": [],
   "source": [
    "# Create mesh and define function space\n",
    "mesh = UnitSquareMesh(32, 32)\n",
    "V = FunctionSpace(mesh, \"Lagrange\", 1)"
   ]
  },
  {
   "cell_type": "markdown",
   "metadata": {},
   "source": [
    "The second argument to `FunctionSpace` is the finite element\n",
    "family, while the third argument specifies the polynomial degree. Thus,\n",
    "in this case, our space `V` consists of first-order, continuous Lagrange\n",
    "finite element functions (or in order words, continuous piecewise linear\n",
    "polynomials).\n",
    "\n",
    "Next, we want to consider the Dirichlet boundary condition. A simple\n",
    "Python function, returning a boolean, can be used to define the\n",
    "subdomain for the Dirichlet boundary condition ($\\Gamma_D$). The\n",
    "function should return `True` for those points inside the subdomain and\n",
    "`False` for the points outside. In our case, we want to say that the\n",
    "points $(x, y)$ such that $x = 0$ or $x = 1$ are inside on the inside of\n",
    "$\\Gamma_D$. (Note that because of rounding-off errors, it is often wise\n",
    "to instead specify $x <\n",
    "\\epsilon$ or $x > 1 - \\epsilon$ where $\\epsilon$ is a small number (such\n",
    "as machine precision).) :"
   ]
  },
  {
   "cell_type": "code",
   "execution_count": 3,
   "metadata": {},
   "outputs": [],
   "source": [
    "# Define Dirichlet boundary (x = 0 or x = 1)\n",
    "def boundary(x):\n",
    "    return x[0] < DOLFIN_EPS or x[0] > 1.0 - DOLFIN_EPS"
   ]
  },
  {
   "cell_type": "markdown",
   "metadata": {},
   "source": [
    "Now, the Dirichlet boundary condition can be created using the class\n",
    "`DirichletBC`. A\n",
    "`DirichletBC` takes three arguments: the\n",
    "function space the boundary condition applies to, the value of the\n",
    "boundary condition, and the part of the boundary on which the condition\n",
    "applies. In our example, the function space is `V`, the value of the\n",
    "boundary condition (0.0) can represented using a\n",
    "`Constant` and the Dirichlet\n",
    "boundary is defined immediately above. The definition of the Dirichlet\n",
    "boundary condition then looks as follows: :"
   ]
  },
  {
   "cell_type": "code",
   "execution_count": 4,
   "metadata": {},
   "outputs": [],
   "source": [
    "# Define boundary condition\n",
    "u0 = Constant(0.0)\n",
    "bc = DirichletBC(V, u0, boundary)"
   ]
  },
  {
   "cell_type": "markdown",
   "metadata": {},
   "source": [
    "Next, we want to express the variational problem. First, we need to\n",
    "specify the trial function $u$ and the test function $v$, both living in\n",
    "the function space $V$. We do this by defining a\n",
    "`TrialFunction` and a\n",
    "`TestFunction` on the previously defined\n",
    "`FunctionSpace` `V`.\n",
    "\n",
    "Further, the source $f$ and the boundary normal derivative $g$ are\n",
    "involved in the variational forms, and hence we must specify these. Both\n",
    "$f$ and $g$ are given by simple mathematical formulas, and can be easily\n",
    "declared using the\n",
    "`Expression` class. Note\n",
    "that the strings defining `f` and `g` use C++ syntax since, for\n",
    "efficiency, DOLFIN will generate and compile C++ code for these\n",
    "expressions at run-time.\n",
    "\n",
    "With these ingredients, we can write down the bilinear form `a` and the\n",
    "linear form `L` (using UFL operators). In summary, this reads :"
   ]
  },
  {
   "cell_type": "code",
   "execution_count": 5,
   "metadata": {},
   "outputs": [],
   "source": [
    "# Define variational problem\n",
    "u = TrialFunction(V)\n",
    "v = TestFunction(V)\n",
    "f = Expression(\"10*exp(-(pow(x[0] - 0.5, 2) + pow(x[1] - 0.5, 2)) / 0.02)\", degree=2)\n",
    "g = Expression(\"sin(5*x[0])\", degree=2)\n",
    "a = inner(grad(u), grad(v))*dx\n",
    "L = f*v*dx + g*v*ds"
   ]
  },
  {
   "cell_type": "markdown",
   "metadata": {},
   "source": [
    "Now, we have specified the variational forms and can consider the\n",
    "solution of the variational problem. First, we need to define a\n",
    "`Function` `u` to represent the\n",
    "solution. (Upon initialization, it is simply set to the zero function.)\n",
    "A `Function` represents a function living in a\n",
    "finite element function space. Next, we can call the :py`solve` function with the arguments `a == L`, `u` and `bc` as follows::"
   ]
  },
  {
   "cell_type": "code",
   "execution_count": 6,
   "metadata": {},
   "outputs": [
    {
     "name": "stdout",
     "output_type": "stream",
     "text": [
      "Calling FFC just-in-time (JIT) compiler, this may take some time.\n",
      "Calling FFC just-in-time (JIT) compiler, this may take some time.\n",
      "Calling FFC just-in-time (JIT) compiler, this may take some time.\n"
     ]
    }
   ],
   "source": [
    "# Compute solution\n",
    "u = Function(V)\n",
    "solve(a == L, u, bc)"
   ]
  },
  {
   "cell_type": "markdown",
   "metadata": {},
   "source": [
    "The function `u` will be modified during the call to solve. The default\n",
    "settings for solving a variational problem have been used. However, the\n",
    "solution process can be controlled in much more detail if desired.\n",
    "\n",
    "A `Function` can be manipulated\n",
    "in various ways, in particular, it can be plotted and saved to file.\n",
    "Here, we output the solution to a `VTK` file (using the suffix `.pvd`)\n",
    "for later visualization and also plot it using the\n",
    ":py`plot` command: :"
   ]
  },
  {
   "cell_type": "code",
   "execution_count": 8,
   "metadata": {},
   "outputs": [
    {
     "data": {
      "image/png": "[encoded data removed]",
      "text/plain": [
       "<Figure size 432x288 with 1 Axes>"
      ]
     },
     "metadata": {
      "needs_background": "light"
     },
     "output_type": "display_data"
    }
   ],
   "source": [
    "# Save solution in VTK format\n",
    "file = File(\"poisson.pvd\")\n",
    "file << u\n",
    "\n",
    "# Plot solution\n",
    "import matplotlib.pyplot as plt\n",
    "plot(u)\n",
    "plt.show()"
   ]
  },
  {
   "cell_type": "code",
   "execution_count": null,
   "metadata": {},
   "outputs": [],
   "source": []
  }
 ],
 "metadata": {
  "kernelspec": {
   "display_name": "Python 3",
   "language": "python",
   "name": "python3"
  },
  "language_info": {
   "codemirror_mode": {
    "name": "ipython",
    "version": 3
   },
   "file_extension": ".py",
   "mimetype": "text/x-python",
   "name": "python",
   "nbconvert_exporter": "python",
   "pygments_lexer": "ipython3",
   "version": "3.8.5"
  }
 },
 "nbformat": 4,
 "nbformat_minor": 4
}

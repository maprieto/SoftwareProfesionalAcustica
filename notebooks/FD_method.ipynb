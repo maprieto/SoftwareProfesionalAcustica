{
 "cells": [
  {
   "cell_type": "markdown",
   "metadata": {
    "button": false,
    "new_sheet": false,
    "run_control": {
     "read_only": false
    }
   },
   "source": [
    "# Software profesional en Acústica 2024-25 (M2i)\n",
    "\n",
    "*This notebook contains an excerpt (with slight modifications) from Section 23.3 in the [Python Programming and Numerical Methods - A Guide for Engineers and Scientists](https://www.elsevier.com/books/python-programming-and-numerical-methods/kong/978-0-12-819549-9), the content is also available at [Berkeley Python Numerical Methods](https://pythonnumericalmethods.berkeley.edu/notebooks/Index.html).The copyright of the book belongs to Elsevier. We also have this interactive book online for a better learning experience. The code is released under the [MIT license](https://opensource.org/licenses/MIT).*"
   ]
  },
  {
   "cell_type": "markdown",
   "metadata": {
    "button": false,
    "new_sheet": false,
    "run_control": {
     "read_only": false
    }
   },
   "source": [
    "# Finite Difference Method"
   ]
  },
  {
   "cell_type": "markdown",
   "metadata": {
    "button": false,
    "new_sheet": false,
    "run_control": {
     "read_only": false
    }
   },
   "source": [
    "Another way to solve the ODE and PDE boundary value problems is the **finite difference method**, where we can use finite difference formulas at evenly spaced grid points to approximate the differential equations (in this case in an one-dimensional case). This way, we can transform a differential equation into a system of algebraic equations to solve. \n",
    "\n",
    "In the finite difference method, the derivatives in the differential equation are approximated using the finite difference formulas. We can divide the the interval of $[a, b]$ into $n$ equal subintervals of length $h$ as shown in the following figure. \n",
    "\n",
    "<img src=\"images/23.03.01-Finite-difference.png\" alt=\"finite difference\" title=\"Finite difference grids\" width=\"500\"/>\n",
    "\n",
    "Commonly, we usually use the central difference formulas in the finite difference methods due to the fact that they yield better accuracy. The differential equation is enforced only at the grid points, and the first and second derivatives are:\n",
    "\n",
    "$$\\frac{du}{dx} = \\frac{u_{i+1}-u_{i-1}}{2h} + O(h)$$\n",
    "\n",
    "$$\\frac{d^2u}{dx^2} = \\frac{u_{i-1}-2u_i+u_{i+1}}{h^2} + O(h^2)$$\n",
    "\n",
    "These finite difference expressions are used to replace the derivatives of $u$ in the differential equation which leads to a system of $n+1$ linear algebraic equations if the differential equation is linear. If the differential equation is nonlinear, the algebraic equations will also be nonlinear.  \n",
    "\n",
    "**EXAMPLE:** Solve the Helmholtz problem using the finite difference method, and plot the numerical approximation. The ODE is\n",
    "$$ -\\frac{d^2u}{dx^2} - k^2u = 0$$\n",
    "with the boundary conditions $u(0) = 0$ and $u(\\pi) = 1$. Let's take $n=10$. \n",
    "\n",
    "Since the time interval is $[0, \\pi]$ and we have $n=10$, therefore, $h=\\pi/n$, using the finite difference approximated derivatives, we have \n",
    "\n",
    "$$ u_0 = 0$$\n",
    "\n",
    "$$ -\\frac{u_{i-1} - 2u_i + u_{i+1}}{h^2} -k^2\\frac{u_{i-1} + 2u_i + u_{i+1}}{4}=0, \\;i = 1, 2, ..., n-1$$\n",
    "\n",
    "$$ u_{10} = 1$$\n",
    "\n",
    "If we use matrix notation, we will have:\n",
    "\n",
    "$$\n",
    "\\left(\\begin{bmatrix}\n",
    "1 & 0 & & & \\\\\n",
    "1 & -2 & 1 & &  \\\\\n",
    " & \\ddots & \\ddots & \\ddots & \\\\\n",
    " & & 1& -2& 1 \\\\\n",
    " & & & 0 & 1\n",
    "\\end{bmatrix}\n",
    "+\n",
    "\\frac{k^2h^2}{4}\n",
    "\\begin{bmatrix}\n",
    "2 & 1 & & & \\\\\n",
    "1 & 2 & 1 & &  \\\\\n",
    " & \\ddots & \\ddots & \\ddots & \\\\\n",
    " & & 1& 2& 1 \\\\\n",
    " & & & 1 & 2\n",
    "\\end{bmatrix}\n",
    "\\right)\n",
    "\\left[\\begin{array}{c} u_0 \\\\u_1 \\\\ ... \\\\ u_{n-1}\\\\u_n \\end{array}\\right] =\n",
    "\\left[\\begin{array}{c} 0 \\\\0 \\\\ ... \\\\ 0 \\\\1\\end{array}\\right]$$\n",
    "\n",
    "Therefore, we have $n+1$ equations in the system, we can store it using a sparse matrix (tridiagonal), and solve it using the sparse linear solver included in ``scipy``. "
   ]
  },
  {
   "cell_type": "code",
   "execution_count": null,
   "metadata": {
    "button": false,
    "new_sheet": false,
    "run_control": {
     "read_only": false
    }
   },
   "outputs": [
    {
     "name": "stdout",
     "output_type": "stream",
     "text": [
      "[0. 0. 0. 0. 0. 0. 0. 0. 0. 0. 1.]\n",
      "[[ 1.          0.          0.          0.          0.          0.\n",
      "   0.          0.          0.          0.          0.        ]\n",
      " [ 1.05551652 -1.88896695  1.05551652  0.          0.          0.\n",
      "   0.          0.          0.          0.          0.        ]\n",
      " [ 0.          1.05551652 -1.88896695  1.05551652  0.          0.\n",
      "   0.          0.          0.          0.          0.        ]\n",
      " [ 0.          0.          1.05551652 -1.88896695  1.05551652  0.\n",
      "   0.          0.          0.          0.          0.        ]\n",
      " [ 0.          0.          0.          1.05551652 -1.88896695  1.05551652\n",
      "   0.          0.          0.          0.          0.        ]\n",
      " [ 0.          0.          0.          0.          1.05551652 -1.88896695\n",
      "   1.05551652  0.          0.          0.          0.        ]\n",
      " [ 0.          0.          0.          0.          0.          1.05551652\n",
      "  -1.88896695  1.05551652  0.          0.          0.        ]\n",
      " [ 0.          0.          0.          0.          0.          0.\n",
      "   1.05551652 -1.88896695  1.05551652  0.          0.        ]\n",
      " [ 0.          0.          0.          0.          0.          0.\n",
      "   0.          1.05551652 -1.88896695  1.05551652  0.        ]\n",
      " [ 0.          0.          0.          0.          0.          0.\n",
      "   0.          0.          1.05551652 -1.88896695  1.05551652]\n",
      " [ 0.          0.          0.          0.          0.          0.\n",
      "   0.          0.          0.          0.          1.        ]]\n"
     ]
    },
    {
     "data": {
      "image/png": "[encoded data removed]",
      "text/plain": [
       "<Figure size 432x288 with 1 Axes>"
      ]
     },
     "metadata": {
      "needs_background": "light"
     },
     "output_type": "display_data"
    },
    {
     "data": {
      "image/png": "[encoded data removed]",
      "text/plain": [
       "<Figure size 720x576 with 1 Axes>"
      ]
     },
     "metadata": {
      "needs_background": "light"
     },
     "output_type": "display_data"
    }
   ],
   "source": [
    "import numpy as np\n",
    "import matplotlib.pyplot as plt\n",
    "from scipy.sparse import spdiags\n",
    "from scipy.sparse.linalg import spsolve\n",
    "\n",
    "# Physical setting\n",
    "a = np.pi # lenght interval\n",
    "k = 1.5 # wavenumber\n",
    "\n",
    "# Discretization size\n",
    "n = 10\n",
    "h = a / n\n",
    "\n",
    "# Compute K\n",
    "data = np.array([-2*np.ones(n+1), np.ones(n+1), np.ones(n+1)])\n",
    "diags = np.array([0, -1, 1])\n",
    "K = spdiags(data, diags, n+1, n+1).tocsr()\n",
    "                 \n",
    "# Compute M\n",
    "data = np.array([0.5*np.ones(n+1), 0.25*np.ones(n+1), 0.25*np.ones(n+1)])\n",
    "diags = np.array([0, -1, 1])\n",
    "M = spdiags(data, diags, n+1, n+1).tocsr()\n",
    "\n",
    "# Get discretization matrix\n",
    "A = K +(k*h)**2*M\n",
    "\n",
    "# Get b\n",
    "b = np.zeros(n+1)\n",
    "\n",
    "# Block the boundary conditions on b\n",
    "b[0] = 0.\n",
    "b[-1] = 1.\n",
    "print(b)\n",
    "\n",
    "# Block the boundary conditions on A\n",
    "A[0,0] = 1.; A[0,1] = 0.\n",
    "A[-1,-1] = 1.; A[-1,-2] = 0.\n",
    "print(A.toarray())\n",
    "\n",
    "# Plot sparse patern\n",
    "import matplotlib as mp\n",
    "import matplotlib.pyplot as plt\n",
    "plt.spy(A)\n",
    "plt.show()\n",
    "\n",
    "# solve the linear equations\n",
    "u = spsolve(A, b)\n",
    "\n",
    "# Plot the solution\n",
    "x = np.linspace(0, a, n+1)\n",
    "plt.figure(figsize=(10,8))\n",
    "plt.plot(x, u, 'bo-')\n",
    "plt.plot(x, -np.sin(k*x), 'rs--')\n",
    "plt.xlabel(r'$x$')\n",
    "plt.ylabel(r'$u(x)$')\n",
    "plt.legend(['Approx.','Exact'])\n",
    "plt.show()"
   ]
  },
  {
   "cell_type": "markdown",
   "metadata": {
    "button": false,
    "new_sheet": false,
    "run_control": {
     "read_only": false
    }
   },
   "source": [
    "Now, we are going to check the order of convergence of the method with respect to the grid size $h$ using a more programatically implementation (with functions ``compute_fd(n)`` and ``compute_exact(n)``, being $n+1$ the number of grid points): "
   ]
  },
  {
   "cell_type": "code",
   "execution_count": 2,
   "metadata": {
    "button": false,
    "new_sheet": false,
    "run_control": {
     "read_only": false
    }
   },
   "outputs": [
    {
     "data": {
      "image/png": "[encoded data removed]",
      "text/plain": [
       "<Figure size 720x576 with 1 Axes>"
      ]
     },
     "metadata": {
      "needs_background": "light"
     },
     "output_type": "display_data"
    }
   ],
   "source": [
    "def compute_fd(n):\n",
    "\n",
    "    # Physical setting\n",
    "    a = np.pi # lenght interval\n",
    "    k = 1.5 # wavenumber\n",
    "    \n",
    "    # Discretization size\n",
    "    h = a / n\n",
    "\n",
    "    # Compute K\n",
    "    data = np.array([-2*np.ones(n+1), np.ones(n+1), np.ones(n+1)])\n",
    "    diags = np.array([0, -1, 1])\n",
    "    K = spdiags(data, diags, n+1, n+1).tocsr()\n",
    "                 \n",
    "    # Compute M\n",
    "    data = np.array([0.5*np.ones(n+1), 0.25*np.ones(n+1), 0.25*np.ones(n+1)])\n",
    "    diags = np.array([0, -1, 1])\n",
    "    M = spdiags(data, diags, n+1, n+1).tocsr()\n",
    "\n",
    "    # Get discretization matrix\n",
    "    A = K +(k*h)**2*M\n",
    "\n",
    "    # Get b\n",
    "    b = np.zeros(n+1)\n",
    "\n",
    "    # Block the boundary conditions on b\n",
    "    b[1] = 0.\n",
    "    b[-1] = 1.\n",
    "\n",
    "    # Block the boundary conditions on A\n",
    "    A[0,0] = 1.; A[0,1] = 0.\n",
    "    A[-1,-1] = 1.; A[-1,-2] = 0.\n",
    "\n",
    "    # solve the linear equations\n",
    "    return spsolve(A, b)\n",
    "\n",
    "def compute_exact(n):\n",
    "    # Physical setting\n",
    "    a = np.pi # lenght interval\n",
    "    k = 1.5 # wavenumber\n",
    "    x = np.linspace(0, a, n+1)\n",
    "    return -np.sin(k*x)\n",
    "\n",
    "nvec = np.int_(np.logspace(1,3,5))\n",
    "error = np.zeros(len(nvec))\n",
    "for j,n in enumerate(nvec):\n",
    "    uh = compute_fd(n)\n",
    "    uex = compute_exact(n)\n",
    "    error[j] = np.linalg.norm(uh-uex,np.inf)/np.linalg.norm(uex,np.inf)\n",
    "    \n",
    "plt.figure(figsize = (10,8))\n",
    "plt.loglog(a/nvec, error, 'bo--')\n",
    "plt.xlabel('h')\n",
    "plt.ylabel(r'$L^\\infty$-relative error')\n",
    "plt.grid()\n",
    "plt.axis(\"square\")\n",
    "plt.show()"
   ]
  },
  {
   "cell_type": "markdown",
   "metadata": {
    "button": false,
    "new_sheet": false,
    "run_control": {
     "read_only": false
    }
   },
   "source": [
    "### Exercise\n",
    "Consider different mass matrices $M$ in the finite difference approximation:\n",
    "- $M$ equal to the identity\n",
    "- $M$ given by the fourth-order finite difference approximation studied in the previous Jupyter notebook\n",
    "\n",
    "In these two cases, analyse the $L^\\infty$-relative error: is the order of convergence higher than $O(h^2)$? For a given grid size, the relative error is larger or smaller than the standard finite difference discretization implemented above?"
   ]
  },
  {
   "cell_type": "code",
   "execution_count": 3,
   "metadata": {},
   "outputs": [],
   "source": [
    "## YOUR CODE HERE"
   ]
  }
 ],
 "metadata": {
  "kernelspec": {
   "display_name": "Python 3",
   "language": "python",
   "name": "python3"
  },
  "language_info": {
   "codemirror_mode": {
    "name": "ipython",
    "version": 3
   },
   "file_extension": ".py",
   "mimetype": "text/x-python",
   "name": "python",
   "nbconvert_exporter": "python",
   "pygments_lexer": "ipython3",
   "version": "3.8.5"
  }
 },
 "nbformat": 4,
 "nbformat_minor": 2
}

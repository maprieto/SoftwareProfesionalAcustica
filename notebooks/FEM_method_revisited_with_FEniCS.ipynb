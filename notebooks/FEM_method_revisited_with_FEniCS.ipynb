{
 "cells": [
  {
   "cell_type": "markdown",
   "metadata": {},
   "source": [
    "# Software profesional en Acústica 2020-21 (M2i)\n",
    "\n",
    "*This notebook contains a modification of the notebook [ElasticBarLinearFEM](https://github.com/garth-wells/notebooks-3D7), used in the course **3D7 Finite Element Methods** in the University of Cambridge, and created by Garth N. Wells. The code is released under the [MIT license](https://opensource.org/licenses/MIT).*"
   ]
  },
  {
   "cell_type": "markdown",
   "metadata": {},
   "source": [
    "# Finite element method"
   ]
  },
  {
   "cell_type": "markdown",
   "metadata": {},
   "source": [
    "We create in this notebook a simple finite element solver for the Helmholtz equation with piecewise linear finite elements. We will use **FEniCS** to perform the simulations, and **Matplotlib** to visualise the results, so we first import the **NumPy** and **Matplotlib** and **Dolfin** modules:"
   ]
  },
  {
   "cell_type": "code",
   "execution_count": 1,
   "metadata": {},
   "outputs": [],
   "source": [
    "import numpy as np\n",
    "import dolfin\n",
    "import matplotlib.pyplot as plt\n",
    "\n",
    "# Setting matplotlib\n",
    "plt.style.use('seaborn-poster')\n",
    "%matplotlib inline"
   ]
  },
  {
   "cell_type": "markdown",
   "metadata": {},
   "source": [
    "## Statement of the problem\n",
    "\n",
    "Solve the Helmholtz problem using the finite element method, and plot the numerical approximation. The ODE is\n",
    "$$ -\\frac{d^2u}{dx^2} - k^2u = f,\\qquad k=\\frac{\\omega}{c}$$,\n",
    "with the boundary conditions $u(0) = 0$ and $u(\\pi) = 0$ and source term $f(x)=1$. Let's take $n=10$. "
   ]
  },
  {
   "cell_type": "markdown",
   "metadata": {},
   "source": [
    "### Wavenumber and Source term\n",
    "We now define the source term $f$. We will use a function that takes the coordinate $x$ as an argument so we possibly define loading terms that vary with position."
   ]
  },
  {
   "cell_type": "code",
   "execution_count": 2,
   "metadata": {},
   "outputs": [],
   "source": [
    "k = 1.5 # wavenumber\n",
    "distributed_load = dolfin.Expression(\"1.+0.*x[0]\", degree=1) # linear polynomial expression"
   ]
  },
  {
   "cell_type": "markdown",
   "metadata": {},
   "source": [
    "### Mesh\n",
    "We will create a mesh of length $L$ with a prescribed number of cells (elements) $n_{\\text{cells}}$. For linear elements, the number of nodes $n_{\\text{nodes}}$ is equal to $n_{\\text{cells}} + 1$."
   ]
  },
  {
   "cell_type": "code",
   "execution_count": 3,
   "metadata": {},
   "outputs": [],
   "source": [
    "L = np.pi\n",
    "n_cells = 10\n",
    "n_nodes = n_cells + 1"
   ]
  },
  {
   "cell_type": "markdown",
   "metadata": {},
   "source": [
    "To create a mesh from 0 to $L$ with equal size cells (elements) we will use the function `dolfin.mesh` to generate a mesh of equally spaced points on the interval $[0, L]$."
   ]
  },
  {
   "cell_type": "code",
   "execution_count": 4,
   "metadata": {},
   "outputs": [],
   "source": [
    "mesh = dolfin.IntervalMesh(n_cells,0.,L)"
   ]
  },
  {
   "cell_type": "markdown",
   "metadata": {},
   "source": [
    "Matplotlib can be used to visualise the mesh:"
   ]
  },
  {
   "cell_type": "code",
   "execution_count": 5,
   "metadata": {},
   "outputs": [
    {
     "data": {
      "image/png": "[encoded data removed]",
      "text/plain": [
       "<Figure size 432x288 with 1 Axes>"
      ]
     },
     "metadata": {
      "needs_background": "light"
     },
     "output_type": "display_data"
    }
   ],
   "source": [
    "plt.xlabel('$x$')\n",
    "plt.title('finite element mesh')\n",
    "h = dolfin.plot(mesh)"
   ]
  },
  {
   "cell_type": "markdown",
   "metadata": {},
   "source": [
    "### A simple finite element solver"
   ]
  },
  {
   "cell_type": "markdown",
   "metadata": {},
   "source": [
    "We have already defined our domain (the mesh) and the wavenumber $k$. We now need to build the global stiffness and mass matrix $K$ and $M$, respectively, and the global right-hand side vector $\\vec{b}$, after which we can solve $(K+k^2M) \\vec{u} = \\vec{b}$ to get the nodal degrees-of-freedom $\\vec{u}$. \n",
    "\n",
    "With this aim, the first step is the definition of the finite element discrete space (in this case Continuos Galerkin $\\mathbb{P}^1$ elements, this is, piecewise linear Lagrange finite elements), and assign test and trial functions to write the corresponding variational formulations of the stiffness and mass terms."
   ]
  },
  {
   "cell_type": "code",
   "execution_count": 6,
   "metadata": {},
   "outputs": [],
   "source": [
    "# Define the function space\n",
    "V = dolfin.FunctionSpace(mesh,\"CG\", 1)\n",
    "\n",
    "# Define the test and trial functions\n",
    "v = dolfin.TestFunction(V)\n",
    "u = dolfin.TrialFunction(V)"
   ]
  },
  {
   "cell_type": "markdown",
   "metadata": {},
   "source": [
    "#### Define the variational formulation for the stiffness term $\\boldsymbol{K}$\n",
    "\n",
    "We define the variational formulation of the stiffness term"
   ]
  },
  {
   "cell_type": "code",
   "execution_count": 7,
   "metadata": {},
   "outputs": [],
   "source": [
    "K_form = dolfin.inner(dolfin.grad(u), dolfin.grad(v)) * dolfin.dx"
   ]
  },
  {
   "cell_type": "markdown",
   "metadata": {},
   "source": [
    "#### Define the variational formulation for the mass term $\\boldsymbol{M}$\n",
    "\n",
    "We define the variational formulation of the mass term"
   ]
  },
  {
   "cell_type": "code",
   "execution_count": 8,
   "metadata": {},
   "outputs": [],
   "source": [
    "M_form = dolfin.inner(u, v) * dolfin.dx "
   ]
  },
  {
   "cell_type": "markdown",
   "metadata": {},
   "source": [
    "##### Assemble global (ans sparse) stiffness and mass matrices"
   ]
  },
  {
   "cell_type": "markdown",
   "metadata": {},
   "source": [
    "To build the global stiffness and mass matrices $K$ and $M$, we first create an empty $n_{\\text{nodes}} \\times n_{\\text{nodes}}$ matrix: "
   ]
  },
  {
   "cell_type": "code",
   "execution_count": 9,
   "metadata": {},
   "outputs": [],
   "source": [
    "K = dolfin.PETScMatrix()\n",
    "M = dolfin.PETScMatrix()"
   ]
  },
  {
   "cell_type": "markdown",
   "metadata": {},
   "source": [
    "Next, we loop over each cell and add the cell contribution $K_{e}$ to the global matrix $K$ (analogously $M_e$ to the global matrix $M$). This is known as *assembly*. "
   ]
  },
  {
   "cell_type": "code",
   "execution_count": 10,
   "metadata": {},
   "outputs": [
    {
     "data": {
      "text/plain": [
       "<dolfin.cpp.la.PETScMatrix at 0x7fece729d040>"
      ]
     },
     "execution_count": 10,
     "metadata": {},
     "output_type": "execute_result"
    }
   ],
   "source": [
    "dolfin.assemble(K_form, tensor=K)\n",
    "dolfin.assemble(M_form, tensor=M)"
   ]
  },
  {
   "cell_type": "markdown",
   "metadata": {},
   "source": [
    "#### Create RHS vector $\\boldsymbol{b}$"
   ]
  },
  {
   "cell_type": "markdown",
   "metadata": {},
   "source": [
    "We create the global RHS vector $\\vec{b}$ by computing the cell RHS $\\vec{b}_{e}$ cell-by-cell, and adding this to the global RHS vector. We allow the distributed load $f$ to vary with position, which is why we cannot compute it just once. For simplicity we will integrate the local RHS using the midpoint rule. This is exact if $f$ is constant, and is otherwise approximate.\n",
    "\n",
    "We first create an empty global RHS vector: "
   ]
  },
  {
   "cell_type": "code",
   "execution_count": 11,
   "metadata": {},
   "outputs": [],
   "source": [
    "b = dolfin.Vector()"
   ]
  },
  {
   "cell_type": "markdown",
   "metadata": {},
   "source": [
    "We now loop over each cell and compute $\\int_{x_{i}}^{x_{i+1}} N_{1} f dx=\\frac{h}{2}f(x_{i+\\frac12})$ and $\\int_{x_{i}}^{x_{i+1}} N_{2} f dx=\\frac{h}{2}f(x_{i+\\frac12})$ for each cell, and add the contribution to the global RHS vector: "
   ]
  },
  {
   "cell_type": "code",
   "execution_count": 12,
   "metadata": {},
   "outputs": [
    {
     "data": {
      "text/plain": [
       "<dolfin.cpp.la.Vector at 0x7fece72d41d0>"
      ]
     },
     "execution_count": 12,
     "metadata": {},
     "output_type": "execute_result"
    }
   ],
   "source": [
    "b_form = distributed_load * v * dolfin.dx\n",
    "dolfin.assemble(b_form, tensor=b)"
   ]
  },
  {
   "cell_type": "markdown",
   "metadata": {},
   "source": [
    "#### Apply Dirichet (displacement) boundary condition"
   ]
  },
  {
   "cell_type": "markdown",
   "metadata": {},
   "source": [
    "We're almost ready to solve a finite element problem, but we would get into trouble if we tried to solve $A \\vec{u} = \\vec{b}$ using the above stiffness matrix because it is singular (you can verify this by computing its determinant). The system is singular because we have not applied a Dirichlet boundary condition, and hence multiple solutions are possible.\n",
    "\n",
    "We impose the boundary condition $u = 0$ and $x=0$ by zeroing the first row and column of the matrix, placing a one on the first diagonal entry and setting the first entry on the RHS to zero. It should be clear algebraically that this will ensure that the first degree of freedom is equal to zero when we solve the system."
   ]
  },
  {
   "cell_type": "code",
   "execution_count": 13,
   "metadata": {},
   "outputs": [],
   "source": [
    "# Get discretization matrix\n",
    "A = K - k**2*M\n",
    "\n",
    "# Define and apply the boundary conditions \n",
    "bcs = dolfin.DirichletBC(V, dolfin.Constant(0), \"on_boundary\")\n",
    "bcs.apply(A)\n",
    "bcs.apply(b)"
   ]
  },
  {
   "cell_type": "markdown",
   "metadata": {},
   "source": [
    "#### Solve system of equations"
   ]
  },
  {
   "cell_type": "markdown",
   "metadata": {},
   "source": [
    "We can now solve the finite element system:"
   ]
  },
  {
   "cell_type": "code",
   "execution_count": 14,
   "metadata": {},
   "outputs": [
    {
     "data": {
      "text/plain": [
       "1"
      ]
     },
     "execution_count": 14,
     "metadata": {},
     "output_type": "execute_result"
    }
   ],
   "source": [
    "sol = dolfin.Function(V)\n",
    "dolfin.solve(A, sol.vector(), b)"
   ]
  },
  {
   "cell_type": "markdown",
   "metadata": {},
   "source": [
    "#### Visualising the solution"
   ]
  },
  {
   "cell_type": "markdown",
   "metadata": {},
   "source": [
    "We now plot the solution:"
   ]
  },
  {
   "cell_type": "code",
   "execution_count": 15,
   "metadata": {},
   "outputs": [
    {
     "data": {
      "image/png": "[encoded data removed]",
      "text/plain": [
       "<Figure size 720x576 with 1 Axes>"
      ]
     },
     "metadata": {
      "needs_background": "light"
     },
     "output_type": "display_data"
    }
   ],
   "source": [
    "# Plot the solution\n",
    "plt.figure(figsize=(10,8))\n",
    "dolfin.plot(sol)\n",
    "x = mesh.coordinates()\n",
    "plt.plot(x, (np.cos(k*(x-np.pi/2))/np.cos(k*np.pi/2) -1)/k**2, 'rs--')\n",
    "plt.xlabel(r'$x$')\n",
    "plt.ylabel(r'$u(x)$')\n",
    "plt.legend(['Approx.','Exact'])\n",
    "plt.show()"
   ]
  },
  {
   "cell_type": "markdown",
   "metadata": {},
   "source": [
    "## A more programmatic approach"
   ]
  },
  {
   "cell_type": "markdown",
   "metadata": {},
   "source": [
    "We now present a finite element solver that is very similar the one above, but we now provide a programming interface so we can reuse a function to explore different loading functions and different levels of refinement of the mesh."
   ]
  },
  {
   "cell_type": "code",
   "execution_count": 16,
   "metadata": {},
   "outputs": [],
   "source": [
    "def compute_fem(L, k, f_source, n_cells):\n",
    "\n",
    "    # Crarte mesh and compute cell size\n",
    "    mesh = dolfin.IntervalMesh(n_cells, 0.,L)\n",
    "\n",
    "    # Define the function space\n",
    "    V = dolfin.FunctionSpace(mesh,\"CG\", 1)\n",
    "\n",
    "    # Define the test and trial functions\n",
    "    v = dolfin.TestFunction(V)\n",
    "    u = dolfin.TrialFunction(V)\n",
    "    \n",
    "    # Variational forms\n",
    "    a_form = dolfin.inner(dolfin.grad(u), dolfin.grad(v)) * dolfin.dx - k**2 * dolfin.inner(u, v) * dolfin.dx\n",
    "    b_form = f_source * v * dolfin.dx\n",
    "    \n",
    "    # Define the boundary conditions\n",
    "    bcs = dolfin.DirichletBC(V, dolfin.Constant(0), \"on_boundary\")\n",
    "    \n",
    "    # Assembly and apply the boundary conditions\n",
    "    A, b = dolfin.assemble_system(a_form, b_form, bcs)\n",
    "\n",
    "    # compute solution\n",
    "    sol = dolfin.Function(V)\n",
    "    dolfin.solve(A, sol.vector(), b)\n",
    "    \n",
    "    return sol, mesh, V"
   ]
  },
  {
   "cell_type": "markdown",
   "metadata": {},
   "source": [
    "We want to see how the error is decreasing as soon as $h$ tends to zero:"
   ]
  },
  {
   "cell_type": "code",
   "execution_count": 17,
   "metadata": {},
   "outputs": [
    {
     "data": {
      "image/png": "[encoded data removed]",
      "text/plain": [
       "<Figure size 720x576 with 1 Axes>"
      ]
     },
     "metadata": {
      "needs_background": "light"
     },
     "output_type": "display_data"
    }
   ],
   "source": [
    "# Definition of the exact solution as expression\n",
    "exact_solution = dolfin.Expression(\"(cos(k*(x[0]-L/2))/cos(k*L/2) -1.)/pow(k,2)\", k=k, L=L, degree=6)\n",
    "\n",
    "nvec = np.int_(np.logspace(1,3,5))\n",
    "error = np.zeros(len(nvec))\n",
    "for j,n in enumerate(nvec):\n",
    "    uh, mesh, V = compute_fem(L, k, distributed_load, n)\n",
    "    uex = dolfin.interpolate(exact_solution,V)\n",
    "    error[j] = dolfin.errornorm(uh,uex,'L2')/dolfin.norm(uex,'L2')\n",
    "    \n",
    "plt.figure(figsize = (10,8))\n",
    "plt.loglog(L/nvec, error, 'bo--')\n",
    "plt.xlabel('h')\n",
    "plt.ylabel(r'$L^\\infty$-relative error')\n",
    "plt.axis(\"square\")\n",
    "plt.grid()\n",
    "plt.show()"
   ]
  },
  {
   "cell_type": "markdown",
   "metadata": {},
   "source": [
    "### Interactive solver\n",
    "\n",
    "We can make an interactive solver, where you can change the number of cells via a slider and see how the solution changes.\n",
    "You need to run this notebook in a Jupyter session to see and use the slider."
   ]
  },
  {
   "cell_type": "code",
   "execution_count": 18,
   "metadata": {},
   "outputs": [
    {
     "data": {
      "application/vnd.jupyter.widget-view+json": {
       "model_id": "63028f343f7f4b4c911d8a442ca128d6",
       "version_major": 2,
       "version_minor": 0
      },
      "text/plain": [
       "interactive(children=(IntSlider(value=5, description='number of cells', max=20, min=1), Output()), _dom_classe…"
      ]
     },
     "metadata": {},
     "output_type": "display_data"
    }
   ],
   "source": [
    "from ipywidgets import widgets\n",
    "from ipywidgets import interact\n",
    "\n",
    "# Exact solution within a mesh of 100 cells\n",
    "x = np.linspace(0.,L,100)\n",
    "uex = (np.cos(k*(x-np.pi/2))/np.cos(k*np.pi/2) -1)/k**2\n",
    "\n",
    "@interact(num_cells=widgets.IntSlider(min=1, max=20, value=5, description='number of cells'))\n",
    "def plot(num_cells=5):\n",
    "    plt.xlabel('$x$')\n",
    "    plt.ylabel('$u$')\n",
    "    plt.title('Finite element solution for the Helmholtz equation')\n",
    "    uh, mesh, V = compute_fem(L, k, distributed_load, num_cells)\n",
    "    plt.plot(x, uex, '--', color='k', label='Exact');\n",
    "    dolfin.plot(uh, 'o-', label='Approx. : ' + str(num_cells) + ' cells');\n",
    "    plt.legend(loc='upper left');"
   ]
  },
  {
   "cell_type": "markdown",
   "metadata": {},
   "source": [
    "### Exercise\n",
    "Re-implement the FEM function ``compute_fem`` modifying the type of finite elements: use 2nd, 3rd, 4th and 5th-order piecewise continuous Lagrange polynomials to approximate the Helmholtz solution. Which is the effect of this selection on the order of convergence of the method?"
   ]
  },
  {
   "cell_type": "code",
   "execution_count": 19,
   "metadata": {},
   "outputs": [],
   "source": [
    "## YOUR CODE HERE"
   ]
  }
 ],
 "metadata": {
  "kernelspec": {
   "display_name": "Python 3",
   "language": "python",
   "name": "python3"
  },
  "language_info": {
   "codemirror_mode": {
    "name": "ipython",
    "version": 3
   },
   "file_extension": ".py",
   "mimetype": "text/x-python",
   "name": "python",
   "nbconvert_exporter": "python",
   "pygments_lexer": "ipython3",
   "version": "3.8.5"
  },
  "widgets": {
   "state": {
    "1855c7f43aa340e2827da1fdc0580e23": {
     "views": [
      {
       "cell_index": 55
      }
     ]
    }
   },
   "version": "1.2.0"
  }
 },
 "nbformat": 4,
 "nbformat_minor": 4
}

{
 "cells": [
  {
   "cell_type": "markdown",
   "metadata": {
    "button": false,
    "new_sheet": false,
    "run_control": {
     "read_only": false
    }
   },
   "source": [
    "# Software profesional en Acústica 2020-21 (M2i)\n",
    "\n",
    "*This notebook contains an excerpt from Sections 20.1-20.3 in the [Python Programming and Numerical Methods - A Guide for Engineers and Scientists](https://www.elsevier.com/books/python-programming-and-numerical-methods/kong/978-0-12-819549-9), the content is also available at [Berkeley Python Numerical Methods](https://pythonnumericalmethods.berkeley.edu/notebooks/Index.html).The copyright of the book belongs to Elsevier. We also have this interactive book online for a better learning experience. The code is released under the [MIT license](https://opensource.org/licenses/MIT).*"
   ]
  },
  {
   "cell_type": "markdown",
   "metadata": {},
   "source": [
    "# Numerical Differentiation Problem Statement"
   ]
  },
  {
   "cell_type": "markdown",
   "metadata": {},
   "source": [
    "A **numerical grid** is an evenly spaced set of points over the domain of a function (i.e., the independent variable), over some interval. The **spacing** or **step size** of a numerical grid is the distance between adjacent points on the grid. For the purpose of this text, if $x$ is a numerical grid, then $x_j$ is the $j^{\\mathrm{th}}$ point in the numerical grid and $h$ is the spacing between $x_{j-1}$ and $x_j$. The following figure shows an example of a numerical grid.\n",
    "\n",
    "<img src=\"images/20.01.01-Numerical_grid.png\" alt=\"Numerical grid\" title=\"Numerical grid used to approximate functions.\" width=\"400\"/>\n",
    "\n",
    "There are several functions in Python that can be used to generate numerical grids. For numerical grids in one dimension, it is sufficient to use the *linspace* function, which you have already used for creating regularly spaced arrays.\n",
    "\n",
    "In Python, a function $f(x)$ can be represented over an interval by computing its value on a grid. Although the function itself may be continuous, this **discrete** or **discretized** representation is useful for numerical calculations and corresponds to data sets that may be acquired in engineering and science practice. Specifically, the function value may only be known at discrete points. For example, a temperature sensor may deliver temperature versus time pairs at regular time intervals. Although temperature is a smooth and continuous function of time, the sensor only provides values at discrete time intervals, and in this particular case, the underlying function would not even be known.\n",
    "\n",
    "Whether $f$ is an analytic function or a discrete representation of one, we would like to derive methods of approximating the derivative of $f$ over a numerical grid and determine their accuracy."
   ]
  },
  {
   "cell_type": "markdown",
   "metadata": {
    "button": false,
    "new_sheet": false,
    "run_control": {
     "read_only": false
    }
   },
   "source": [
    "# Finite Difference Approximating Derivatives\n",
    "\n",
    "The derivative $f'(x)$ of a function $f(x)$ at the point $x=a$ is defined as:\n",
    "\n",
    "$$f'(a) = \\lim\\limits_{x \\to a}\\frac{f(x) - f(a)}{x-a}$$\n",
    "\n",
    "The derivative at $x=a$ is the slope at this point. In **finite difference** approximations of this slope, we can use values of the function in the neighborhood of the point $x=a$ to achieve the goal. There are various finite difference formulas used in different applications, and three of these, where the derivative is calculated using the values of two points, are presented below. \n",
    "\n",
    "The **forward difference** is to estimate the slope of the function at $x_j$ using the line that connects $(x_j, f(x_j))$ and $(x_{j+1}, f(x_{j+1}))$:\n",
    "\n",
    "$$f'(x_j) \\approx \\frac{f(x_{j+1}) - f(x_j)}{x_{j+1}-x_j}$$\n",
    "\n",
    "The **backward difference** is to estimate the slope of the function at $x_j$ using the line that connects $(x_{j-1}, f(x_{j-1}))$ and $(x_j, f(x_j))$:\n",
    "\n",
    "$$f'(x_j) \\approx \\frac{f(x_j) - f(x_{j-1})}{x_j - x_{j-1}}$$\n",
    "\n",
    "The **central difference** is to estimate the slope of the function at $x_j$ using the line that connects $(x_{j-1}, f(x_{j-1}))$ and $(x_{j+1}, f(x_{j+1}))$:\n",
    "\n",
    "$$f'(x_j) \\approx \\frac{f(x_{j+1}) - f(x_{j-1})}{x_{j+1} - x_{j-1}}$$\n",
    "\n",
    "The following figure illustrates the three different type of formulas to estimate the slope. \n",
    "\n",
    "<img src=\"images/20.02.01-Finite-difference.png\" alt=\"Finite difference\" title=\"Finite difference approximation of the derivative.\" width=\"800\"/>\n",
    "\n",
    "## Finite Difference Approximating Derivatives with Taylor Series"
   ]
  },
  {
   "cell_type": "markdown",
   "metadata": {
    "button": false,
    "new_sheet": false,
    "run_control": {
     "read_only": false
    }
   },
   "source": [
    "To derive an approximation for the derivative of $f$, we return to Taylor series. For an arbitrary function $f(x)$ the Taylor series of $f$ around $a = x_j$ is\n",
    "$$\n",
    "f(x) = \\frac{f(x_j)(x - x_j)^0}{0!} + \\frac{f^{\\prime}(x_j)(x - x_j)^1}{1!} + \\frac{f''(x_j)(x - x_j)^2}{2!} + \\frac{f'''(x_j)(x - x_j)^3}{3!} + \\cdots.\n",
    "$$\n",
    "\n",
    "If $x$ is on a grid of points with spacing $h$, we can compute the Taylor series at $x = x_{j+1}$ to get\n",
    "\n",
    "$$\n",
    "f(x_{j+1}) = \\frac{f(x_j)(x_{j+1} - x_j)^0}{0!} + \\frac{f^{\\prime}(x_j)(x_{j+1}- x_j)^1}{1!} + \\frac{f''(x_j)(x_{j+1} - x_j)^2}{2!} + \\frac{f'''(x_j)(x_{j+1} - x_j)^3}{3!} + \\cdots.\n",
    "$$\n",
    "\n",
    "Substituting $h = x_{j+1} - x_j$ and solving for $f^{\\prime}(x_j)$ gives the equation\n",
    "\n",
    "$$\n",
    "f^{\\prime}(x_j) = \\frac{f(x_{j+1}) - f(x_j)}{h} + \\left(-\\frac{f''(x_j)h}{2!} -\\frac{f'''(x_j)h^2}{3!} - \\cdots\\right).\n",
    "$$\n",
    "\n",
    "The terms that are in parentheses, $-\\frac{f''(x_j)h}{2!} -\\frac{f'''(x_j)h^2}{3!} - \\cdots$, are called **higher order terms** of $h$. The higher order terms can be rewritten as\n",
    "\n",
    "$$\n",
    "-\\frac{f''(x_j)h}{2!} -\\frac{f'''(x_j)h^2}{3!} - \\cdots = h(\\alpha + \\epsilon(h)),\n",
    "$$\n",
    "\n",
    "where $\\alpha$ is some constant, and $\\epsilon(h)$ is a function of $h$ that goes to zero as $h$ goes to 0. You can verify with some algebra that this is true. We use the abbreviation \"$O(h)$\" for $h(\\alpha + \\epsilon(h))$, and in general, we use the abbreviation \"$O(h^p)$\" to denote $h^p(\\alpha + \\epsilon(h))$.\n",
    "\n",
    "\n",
    "Substituting $O(h)$ into the previous equations gives\n",
    "\n",
    "$$\n",
    "f^{\\prime}(x_j) = \\frac{f(x_{j+1}) - f(x_j)}{h} + O(h).\n",
    "$$\n",
    "\n",
    "This gives the **forward difference** formula for approximating derivatives as\n",
    "\n",
    "$$\n",
    "f^{\\prime}(x_j) \\approx \\frac{f(x_{j+1}) - f(x_j)}{h},\n",
    "$$\n",
    "\n",
    "and we say this formula is $O(h)$.\n",
    "\n",
    "Here, $O(h)$ describes the **accuracy** of the forward difference formula for approximating derivatives. For an approximation that is $O(h^p)$, we say that $p$ is the **order** of the accuracy of the approximation. With few exceptions, higher order accuracy is better than lower order. To illustrate this point, assume $q < p$. Then as the spacing, $h > 0$, goes to 0, $h^p$ goes to 0 faster than $h^q$. Therefore as $h$ goes to 0, an approximation of a value that is $O(h^p)$ gets closer to the true value faster than one that is $O(h^q)$.\n",
    "\n",
    "By computing the Taylor series around $a = x_j$ at $x = x_{j-1}$ and again solving for $f^{\\prime}(x_j)$, we get the **backward difference** formula\n",
    "\n",
    "$$\n",
    "f^{\\prime}(x_j) \\approx \\frac{f(x_j) - f(x_{j-1})}{h},\n",
    "$$\n",
    "\n",
    "which is also $O(h)$. You should try to verify this result on your own.\n",
    "\n",
    "Intuitively, the forward and backward difference formulas for the derivative at $x_j$ are just the slopes between the point at $x_j$ and the points $x_{j+1}$ and $x_{j-1}$, respectively.\n",
    "\n",
    "We can construct an improved approximation of the derivative by clever manipulation of Taylor series terms taken at different points. To illustrate, we can compute the Taylor series around $a = x_j$ at both $x_{j+1}$ and $x_{j-1}$. Written out, these equations are\n",
    "\n",
    "$$\n",
    "f(x_{j+1}) = f(x_j) + f^{\\prime}(x_j)h + \\frac{1}{2}f''(x_j)h^2 + \\frac{1}{6}f'''(x_j)h^3 + \\cdots\n",
    "$$\n",
    "\n",
    "and\n",
    "\n",
    "$$\n",
    "f(x_{j-1}) = f(x_j) - f^{\\prime}(x_j)h + \\frac{1}{2}f''(x_j)h^2 - \\frac{1}{6}f'''(x_j)h^3 + \\cdots.\n",
    "$$\n",
    "\n",
    "Subtracting the formulas above gives\n",
    "\n",
    "$$\n",
    "f(x_{j+1}) - f(x_{j-1}) = 2f^{\\prime}(x_j) + \\frac{2}{3}f'''(x_j)h^3 + \\cdots,\n",
    "$$\n",
    "which when solved for $f^{\\prime}(x_j)$ gives the **central difference** formula\n",
    "\n",
    "$$\n",
    "f^{\\prime}(x_j) \\approx \\frac{f(x_{j+1}) - f(x_{j-1})}{2h}.\n",
    "$$\n",
    "\n",
    "Because of how we subtracted the two equations, the $h$ terms canceled out; therefore, the central difference formula is $O(h^2)$, even though it requires the same amount of computational effort as the forward and backward difference formulas! Thus the central difference formula gets an extra order of accuracy for free. In general, formulas that utilize symmetric points around $x_j$, for example $x_{j-1}$ and $x_{j+1}$, have better accuracy than asymmetric ones, such as the forward and background difference formulas.\n",
    "\n",
    "The following figure shows the forward difference (line joining $(x_j, y_j)$ and $(x_{j+1}, y_{j+1})$), backward difference (line joining $(x_j, y_j)$ and $(x_{j-1}, y_{j-1})$), and central difference (line joining $(x_{j-1}, y_{j-1})$ and $(x_{j+1}, y_{j+1})$) approximation of the derivative of a function $f$. As can be seen, the difference in the value of the slope can be significantly different based on the size of the step $h$ and the nature of the function.\n",
    "\n",
    "<img src=\"images/20.02.01-Forward_difference.png\" alt=\"Forward difference\" title=\"Illustration of the forward difference, the backward difference, and the central difference. Note the difference in slopes depending on the method used.\" width=\"300\"/>\n",
    "\n",
    "**TRY IT!** Take the Taylor series of $f$ around $a = x_j$ and compute the series at $x = x_{j-2}, x_{j-1}, x_{j+1}, x_{j+2}$. Show that the resulting equations can be combined to form an approximation for $f^{\\prime}(x_j)$ that is $O(h^4)$.\n",
    "\n",
    "First, compute the Taylor series at the specified points.\n",
    "\n",
    "$$\n",
    "\\begin{eqnarray*}\n",
    "f(x_{j-2}) &=& f(x_j) - 2hf^{\\prime}(x_j) + \\frac{4h^2f''(x_j)}{2} - \\frac{8h^3f'''(x_j)}{6} + \\frac{16h^4f''''(x_j)}{24} - \\frac{32h^5f'''''(x_j)}{120} + \\cdots\\\\\n",
    "f(x_{j-1}) &=& f(x_j) - hf^{\\prime}(x_j) + \\frac{h^2f''(x_j)}{2} - \\frac{h^3f'''(x_j)}{6} + \\frac{h^4f''''(x_j)}{24} - \\frac{h^5f'''''(x_j)}{120} + \\cdots\\\\\n",
    "f(x_{j+1}) &=& f(x_j) + hf^{\\prime}(x_j) + \\frac{h^2f''(x_j)}{2} + \\frac{h^3f'''(x_j)}{6} + \\frac{h^4f''''(x_j)}{24} + \\frac{h^5f'''''(x_j)}{120} + \\cdots\\\\\n",
    "f(x_{j+2}) &=& f(x_j) + 2hf^{\\prime}(x_j) + \\frac{4h^2f''(x_j)}{2} + \\frac{8h^3f'''(x_j)}{6} + \\frac{16h^4f''''(x_j)}{24} + \\frac{32h^5f'''''(x_j)}{120} + \\cdots\n",
    "\\end{eqnarray*}\n",
    "$$\n",
    "\n",
    "To get the $h^2, h^3$, and $h^4$ terms to cancel out, we can compute\n",
    "\n",
    "$$f(x_{j-2}) - 8f(x_{j-1}) + 8f(x_{j+1}) - f(x_{j+2}) = 12hf^{\\prime}(x_j) - \\frac{48h^5f'''''(x_j)}{120}$$\n",
    "which can be rearranged to\n",
    "\n",
    "$$f^{\\prime}(x_j) = \\frac{f(x_{j-2}) - 8f(x_{j-1}) + 8f(x_{j+1}) - f(x_{j+2})}{12h} + O(h^4).$$\n",
    "\n",
    "This formula is a better approximation for the derivative at $x_j$ than the central difference formula, but requires twice as many calculations.\n",
    "\n",
    "**TIP!** Python has a command that can be used to compute finite differences directly: for a vector $f$, the command ``d=np.diff(f)`` produces an array ``d`` in which the entries are the differences of the adjacent elements in the initial array ``f``. In other words ``d[i] = f[i+1] - f[i]``.\n",
    "\n",
    "**WARNING!** When using the command ``np.diff``, the size of the output is one less than the size of the input since it needs two arguments to produce a difference.\n",
    "\n",
    "**EXAMPLE:** Consider the function $f(x) = \\cos(x)$. We know the derivative of $\\cos(x)$ is $-\\sin(x)$. Although in practice we may not know the underlying function we are finding the derivative for, we use the simple example to illustrate the aforementioned numerical differentiation methods and their accuracy. The following code computes the derivatives numerically."
   ]
  },
  {
   "cell_type": "code",
   "execution_count": 1,
   "metadata": {
    "button": false,
    "new_sheet": false,
    "run_control": {
     "read_only": false
    }
   },
   "outputs": [],
   "source": [
    "import numpy as np\n",
    "import matplotlib.pyplot as plt\n",
    "%matplotlib inline"
   ]
  },
  {
   "cell_type": "code",
   "execution_count": 2,
   "metadata": {
    "button": false,
    "new_sheet": false,
    "run_control": {
     "read_only": false
    }
   },
   "outputs": [
    {
     "data": {
      "image/png": "[encoded data removed]",
      "text/plain": [
       "<Figure size 864x576 with 1 Axes>"
      ]
     },
     "metadata": {
      "needs_background": "light"
     },
     "output_type": "display_data"
    },
    {
     "name": "stdout",
     "output_type": "stream",
     "text": [
      "0.049984407218554114\n"
     ]
    }
   ],
   "source": [
    "# step size\n",
    "h = 0.1\n",
    "# define grid\n",
    "x = np.arange(0, 2*np.pi, h) \n",
    "# compute function\n",
    "y = np.cos(x) \n",
    "\n",
    "# compute vector of forward differences\n",
    "forward_diff = np.diff(y)/h \n",
    "# compute corresponding grid\n",
    "x_diff = x[:-1:] \n",
    "# compute exact solution\n",
    "exact_solution = -np.sin(x_diff) \n",
    "\n",
    "# Plot solution\n",
    "plt.figure(figsize = (12, 8))\n",
    "plt.plot(x_diff, forward_diff, '--', \\\n",
    "         label = 'Finite difference approximation')\n",
    "plt.plot(x_diff, exact_solution, \\\n",
    "         label = 'Exact solution')\n",
    "plt.grid()\n",
    "plt.legend()\n",
    "plt.show()\n",
    "\n",
    "# Compute max error between \n",
    "# numerical derivative and exact solution\n",
    "max_error = max(abs(exact_solution - forward_diff))\n",
    "print(max_error)"
   ]
  },
  {
   "cell_type": "markdown",
   "metadata": {
    "button": false,
    "new_sheet": false,
    "run_control": {
     "read_only": false
    }
   },
   "source": [
    "As the above figure shows, there is a small offset between the two curves, which results from the numerical error in the evaluation of the numerical derivatives. The maximal error between the two numerical results is of the order 0.05 and expected to decrease with the size of the step. \n",
    "\n",
    "As illustrated in the previous example, the finite difference scheme contains a numerical error due to the approximation of the derivative. This difference decreases with the size of the discretization step, which is illustrated in the following example.\n",
    "\n",
    "**EXAMPLE:** The following code computes the numerical derivative of $f(x) = \\cos(x)$ using the forward difference formula for decreasing step sizes, $h$. It then plots the maximum error between the approximated derivative and the true derivative versus $h$ as shown in the generated figure. "
   ]
  },
  {
   "cell_type": "code",
   "execution_count": 3,
   "metadata": {
    "button": false,
    "new_sheet": false,
    "run_control": {
     "read_only": false
    }
   },
   "outputs": [
    {
     "data": {
      "image/png": "[encoded data removed]",
      "text/plain": [
       "<Figure size 864x576 with 1 Axes>"
      ]
     },
     "metadata": {
      "needs_background": "light"
     },
     "output_type": "display_data"
    }
   ],
   "source": [
    "# define step size\n",
    "h = 1\n",
    "# define number of iterations to perform\n",
    "iterations = 20 \n",
    "# list to store our step sizes\n",
    "step_size = [] \n",
    "# list to store max error for each step size\n",
    "max_error = [] \n",
    "\n",
    "for i in range(iterations):\n",
    "    # halve the step size\n",
    "    h /= 2 \n",
    "    # store this step size\n",
    "    step_size.append(h) \n",
    "    # compute new grid\n",
    "    x = np.arange(0, 2 * np.pi, h) \n",
    "    # compute function value at grid\n",
    "    y = np.cos(x) \n",
    "    # compute vector of forward differences\n",
    "    forward_diff = np.diff(y)/h \n",
    "    # compute corresponding grid\n",
    "    x_diff = x[:-1] \n",
    "    # compute exact solution\n",
    "    exact_solution = -np.sin(x_diff) \n",
    "    \n",
    "    # Compute max error between \n",
    "    # numerical derivative and exact solution\n",
    "    max_error.append(np.max(np.abs(exact_solution - forward_diff)))\n",
    "\n",
    "# produce log-log plot of max error versus step size\n",
    "plt.figure(figsize = (12, 8))\n",
    "plt.loglog(step_size, max_error, 'v--')\n",
    "plt.axis(\"square\")\n",
    "plt.grid()\n",
    "plt.show()"
   ]
  },
  {
   "cell_type": "markdown",
   "metadata": {
    "button": false,
    "new_sheet": false,
    "run_control": {
     "read_only": false
    }
   },
   "source": [
    "The slope of the line in log-log space is 1; therefore, the error is proportional to $h^1$, which means that, as expected, the forward difference formula is $O(h)$."
   ]
  },
  {
   "cell_type": "markdown",
   "metadata": {},
   "source": [
    "### Exercise\n",
    "Check the convergence behavior of the fourth-order finite difference approximation of $f'(x_{j})$ using the log-log plot used above in the case of $f(x)=\\cos(kx)$ with $k=1,10,100$. Is the order of convergence identical for any value of $k$? Which is the effect of $k$ on the error?"
   ]
  },
  {
   "cell_type": "code",
   "execution_count": 4,
   "metadata": {},
   "outputs": [],
   "source": [
    "# YOUR CODE HERE!"
   ]
  },
  {
   "cell_type": "markdown",
   "metadata": {},
   "source": [
    "# Approximating of Higher Order Derivatives with finite differences"
   ]
  },
  {
   "cell_type": "markdown",
   "metadata": {},
   "source": [
    "It also possible to use Taylor series to approximate higher order derivatives (e.g., $f''(x_j), f'''(x_j)$, etc.). For example, taking the Taylor series around $a = x_j$ and then computing it at $x = x_{j-1}$ and $x_{j+1}$ gives\n",
    "\n",
    "$$\n",
    "f(x_{j-1}) = f(x_j) - hf^{\\prime}(x_j) + \\frac{h^2f''(x_j)}{2} - \\frac{h^3f'''(x_j)}{6} + \\cdots$$\n",
    "\n",
    "and\n",
    "\n",
    "$$f(x_{j+1}) = f(x_j) + hf^{\\prime}(x_j) + \\frac{h^2f''(x_j)}{2} + \\frac{h^3f'''(x_j)}{6} + \\cdots.$$\n",
    "\n",
    "If we add these two equations together, we get\n",
    "\n",
    "$$f(x_{j-1}) + f(x_{j+1}) = 2f(x_j) + h^2f''(x_j) + \\frac{h^4f''''(x_j)}{24} + \\cdots,$$\n",
    "\n",
    "and with some rearrangement gives the approximation\n",
    "$$f''(x_j) \\approx \\frac{f(x_{j+1}) - 2f(x_j) + f(x_{j-1})}{h^2},$$\n",
    "and is $O(h^2)$."
   ]
  },
  {
   "cell_type": "markdown",
   "metadata": {},
   "source": [
    "### Exercise\n",
    "Check the convergence behavior of the second-order finite difference approximation of $f''(x_{j})$ using the log-log plot used above in the case of $f(x)=\\sin(kx+b)$ with $k=1,10,100$ and $b=0,\\pi/2,\\pi$. Is the order of convergence identical for any value of $k$? Is the variation of $b$ changing the error of the finite-difference approximation? Which is the effect of $k$ on the error?"
   ]
  },
  {
   "cell_type": "code",
   "execution_count": 5,
   "metadata": {},
   "outputs": [],
   "source": [
    "# YOUR CODE HERE!"
   ]
  }
 ],
 "metadata": {
  "kernelspec": {
   "display_name": "Python 3",
   "language": "python",
   "name": "python3"
  },
  "language_info": {
   "codemirror_mode": {
    "name": "ipython",
    "version": 3
   },
   "file_extension": ".py",
   "mimetype": "text/x-python",
   "name": "python",
   "nbconvert_exporter": "python",
   "pygments_lexer": "ipython3",
   "version": "3.8.10"
  }
 },
 "nbformat": 4,
 "nbformat_minor": 2
}

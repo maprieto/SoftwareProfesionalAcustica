{
 "cells": [
  {
   "cell_type": "markdown",
   "metadata": {},
   "source": [
    "# Software profesional en Acústica 2020-21 (M2i)\n",
    "\n",
    "*This notebook contains a modification of the notebook [ElasticBarLinearFEM](https://github.com/garth-wells/notebooks-3D7), used in the course **3D7 Finite Element Methods** in the University of Cambridge, and created by Garth N. Wells. The code is released under the [MIT license](https://opensource.org/licenses/MIT).*"
   ]
  },
  {
   "cell_type": "markdown",
   "metadata": {},
   "source": [
    "# Finite element method"
   ]
  },
  {
   "cell_type": "markdown",
   "metadata": {},
   "source": [
    "We create in this notebook a simple finite element solver for the Helmholtz equation with piecewise linear finite elements. We will use **NumPy** and **SciPy** to perform the simulations, and **Matplotlib** to visualise the results, so we first import the **NumPy** and **Matplotlib** modules:"
   ]
  },
  {
   "cell_type": "code",
   "execution_count": 19,
   "metadata": {},
   "outputs": [],
   "source": [
    "import numpy as np\n",
    "%matplotlib inline\n",
    "import matplotlib.pyplot as plt\n",
    "\n",
    "# Setting matplotlib\n",
    "plt.style.use('seaborn-poster')\n",
    "%matplotlib inline"
   ]
  },
  {
   "cell_type": "markdown",
   "metadata": {},
   "source": [
    "## Statement of the problem\n",
    "\n",
    "Solve the Helmholtz problem using the finite element method, and plot the numerical approximation. The ODE is\n",
    "$$ -\\frac{d^2u}{dx^2} - k^2u = f$$\n",
    "with the boundary conditions $u(0) = 0$ and $u(\\pi) = 0$ and source term $f(x)=1$. Let's take $n=10$. "
   ]
  },
  {
   "cell_type": "markdown",
   "metadata": {},
   "source": [
    "### Wavenumber and Source term\n",
    "We now define the source term $f$. We will use a function that takes the coordinate $x$ as an argument so we possibly define loading terms that vary with position."
   ]
  },
  {
   "cell_type": "code",
   "execution_count": 20,
   "metadata": {},
   "outputs": [],
   "source": [
    "k = 1.5 # wavenumber\n",
    "def distributed_load(x):\n",
    "    return 1.0"
   ]
  },
  {
   "cell_type": "markdown",
   "metadata": {},
   "source": [
    "### Mesh\n",
    "We will create a mesh of length $L$ with a prescribed number of cells (elements) $n_{\\text{cells}}$. For linear elements, the number of nodes $n_{\\text{nodes}}$ is equal to $n_{\\text{cells}} + 1$."
   ]
  },
  {
   "cell_type": "code",
   "execution_count": 21,
   "metadata": {},
   "outputs": [],
   "source": [
    "L = np.pi\n",
    "n_cells = 10\n",
    "n_nodes = n_cells + 1"
   ]
  },
  {
   "cell_type": "markdown",
   "metadata": {},
   "source": [
    "To create a mesh from 0 to $L$ with equal size cells (elements) we will use the NumPy function `linspace` to generate an array of equally spaced points on the interval $[0, L]$."
   ]
  },
  {
   "cell_type": "code",
   "execution_count": 22,
   "metadata": {},
   "outputs": [],
   "source": [
    "mesh = np.linspace(0.0, L, n_nodes)"
   ]
  },
  {
   "cell_type": "markdown",
   "metadata": {},
   "source": [
    "Matplotlib can be used to visualise the mesh:"
   ]
  },
  {
   "cell_type": "code",
   "execution_count": 23,
   "metadata": {},
   "outputs": [
    {
     "data": {
      "image/png": "[encoded data removed]",
      "text/plain": [
       "<Figure size 432x288 with 1 Axes>"
      ]
     },
     "metadata": {
      "needs_background": "light"
     },
     "output_type": "display_data"
    }
   ],
   "source": [
    "plt.xlabel('$x$')\n",
    "plt.title('finite element mesh')\n",
    "plt.plot(mesh, [0]*len(mesh), 'o-');"
   ]
  },
  {
   "cell_type": "markdown",
   "metadata": {},
   "source": [
    "### A simple finite element solver"
   ]
  },
  {
   "cell_type": "markdown",
   "metadata": {},
   "source": [
    "We have already defined our domain (the mesh) and the wavenumber $k$. We now need to build the global stiffness and mass matrix $K$ and $M$, respectively, and the global right-hand side vector $\\vec{b}$, after which we can solve $(K+k^2M) \\vec{u} = \\vec{b}$ to get the nodal degrees-of-freedom $\\vec{u}$. "
   ]
  },
  {
   "cell_type": "markdown",
   "metadata": {},
   "source": [
    "#### Create stiffness matrix $\\boldsymbol{K}$\n",
    "\n",
    "We create the global stiffness matrix by computing the element matrix $K_{e}$ , and then looping over all cells and adding their contribution to the global matrix."
   ]
  },
  {
   "cell_type": "markdown",
   "metadata": {},
   "source": [
    "##### Element stiffness matrix $\\boldsymbol{K}_{e}$\n",
    "\n",
    "The element stiffness matrix for a linear element is\n",
    "$$\n",
    "K_{e} \n",
    "= \\frac{1}{h}\n",
    "\\begin{bmatrix}\n",
    "1 & -1 \\\\ -1 & 1    \n",
    "\\end{bmatrix}\n",
    "$$\n",
    "where $h$ is the mesh size.\n",
    "Our mesh has constant mesh size, so we can compute $K_{e}$ just once:"
   ]
  },
  {
   "cell_type": "code",
   "execution_count": 24,
   "metadata": {
    "scrolled": true
   },
   "outputs": [
    {
     "name": "stdout",
     "output_type": "stream",
     "text": [
      "[[ 3.18309886 -3.18309886]\n",
      " [-3.18309886  3.18309886]]\n"
     ]
    }
   ],
   "source": [
    "h = L/n_cells\n",
    "k_e = (1./h)*np.array([[1, -1], [-1, 1]])\n",
    "print(k_e)"
   ]
  },
  {
   "cell_type": "markdown",
   "metadata": {},
   "source": [
    "#### Create mass matrix $\\boldsymbol{M}$\n",
    "\n",
    "We create the global mass matrix by computing the element matrix $M_{e}$ , and then looping over all cells and adding their contribution to the global matrix."
   ]
  },
  {
   "cell_type": "markdown",
   "metadata": {},
   "source": [
    "##### Element mass matrix $\\boldsymbol{M}_{e}$\n",
    "\n",
    "The element mass matrix for a linear element is\n",
    "$$\n",
    "M_{e} \n",
    "= \\frac{h}{6}\n",
    "\\begin{bmatrix}\n",
    "2 & 1 \\\\ 1 & 2    \n",
    "\\end{bmatrix}\n",
    "$$\n",
    "where $h$ is the mesh size.\n",
    "Our mesh has constant mesh size, so we can compute $M_{e}$ just once:"
   ]
  },
  {
   "cell_type": "code",
   "execution_count": 25,
   "metadata": {},
   "outputs": [
    {
     "name": "stdout",
     "output_type": "stream",
     "text": [
      "[[0.10471976 0.05235988]\n",
      " [0.05235988 0.10471976]]\n"
     ]
    }
   ],
   "source": [
    "h = L/n_cells\n",
    "m_e = (h/6.)*np.array([[2, 1], [1, 2]])\n",
    "print(m_e)"
   ]
  },
  {
   "cell_type": "markdown",
   "metadata": {},
   "source": [
    "##### Assemble global (ans sparse) stiffness and mass matrices"
   ]
  },
  {
   "cell_type": "markdown",
   "metadata": {},
   "source": [
    "To build the global stiffness and mass matrices $K$ and $M$, we first create an empty $n_{\\text{nodes}} \\times n_{\\text{nodes}}$ matrix: "
   ]
  },
  {
   "cell_type": "code",
   "execution_count": 26,
   "metadata": {},
   "outputs": [],
   "source": [
    "# import sparse module from SciPy package \n",
    "from scipy import sparse\n",
    "K = sparse.csr_matrix((n_nodes, n_nodes))\n",
    "M = sparse.csr_matrix((n_nodes, n_nodes))"
   ]
  },
  {
   "cell_type": "markdown",
   "metadata": {},
   "source": [
    "Next, we loop over each cell and add the cell contribution $K_{e}$ to the global matrix $K$ (analogously $M_e$ to the global matrix $M$). This is known as *assembly*. "
   ]
  },
  {
   "cell_type": "code",
   "execution_count": 27,
   "metadata": {},
   "outputs": [
    {
     "name": "stdout",
     "output_type": "stream",
     "text": [
      "[[ 3.18309886 -3.18309886  0.          0.          0.          0.\n",
      "   0.          0.          0.          0.          0.        ]\n",
      " [-3.18309886  6.36619772 -3.18309886  0.          0.          0.\n",
      "   0.          0.          0.          0.          0.        ]\n",
      " [ 0.         -3.18309886  6.36619772 -3.18309886  0.          0.\n",
      "   0.          0.          0.          0.          0.        ]\n",
      " [ 0.          0.         -3.18309886  6.36619772 -3.18309886  0.\n",
      "   0.          0.          0.          0.          0.        ]\n",
      " [ 0.          0.          0.         -3.18309886  6.36619772 -3.18309886\n",
      "   0.          0.          0.          0.          0.        ]\n",
      " [ 0.          0.          0.          0.         -3.18309886  6.36619772\n",
      "  -3.18309886  0.          0.          0.          0.        ]\n",
      " [ 0.          0.          0.          0.          0.         -3.18309886\n",
      "   6.36619772 -3.18309886  0.          0.          0.        ]\n",
      " [ 0.          0.          0.          0.          0.          0.\n",
      "  -3.18309886  6.36619772 -3.18309886  0.          0.        ]\n",
      " [ 0.          0.          0.          0.          0.          0.\n",
      "   0.         -3.18309886  6.36619772 -3.18309886  0.        ]\n",
      " [ 0.          0.          0.          0.          0.          0.\n",
      "   0.          0.         -3.18309886  6.36619772 -3.18309886]\n",
      " [ 0.          0.          0.          0.          0.          0.\n",
      "   0.          0.          0.         -3.18309886  3.18309886]]\n"
     ]
    },
    {
     "name": "stderr",
     "output_type": "stream",
     "text": [
      "/usr/local/lib/python3.8/dist-packages/scipy/sparse/_index.py:124: SparseEfficiencyWarning: Changing the sparsity structure of a csr_matrix is expensive. lil_matrix is more efficient.\n",
      "  self._set_arrayXarray(i, j, x)\n"
     ]
    }
   ],
   "source": [
    "for element in range(n_cells):\n",
    "    K[element:element + 2, element:element + 2] += k_e\n",
    "    M[element:element + 2, element:element + 2] += m_e\n",
    "print(K.toarray())"
   ]
  },
  {
   "cell_type": "markdown",
   "metadata": {},
   "source": [
    "#### Create RHS vector $\\boldsymbol{b}$"
   ]
  },
  {
   "cell_type": "markdown",
   "metadata": {},
   "source": [
    "We create the global RHS vector $\\vec{b}$ by computing the cell RHS $\\vec{b}_{e}$ cell-by-cell, and adding this to the global RHS vector. We allow the distributed load $f$ to vary with position, which is why we cannot compute it just once. For simplicity we will integrate the local RHS using the midpoint rule. This is exact if $f$ is constant, and is otherwise approximate.\n",
    "\n",
    "We first create an empty global RHS vector: "
   ]
  },
  {
   "cell_type": "code",
   "execution_count": 28,
   "metadata": {},
   "outputs": [],
   "source": [
    "b = np.zeros(n_nodes)"
   ]
  },
  {
   "cell_type": "markdown",
   "metadata": {},
   "source": [
    "We now loop over each cell and compute $\\int_{x_{i}}^{x_{i+1}} N_{1} f dx=hf(x_{i+\\frac12})$ and $\\int_{x_{i}}^{x_{i+1}} N_{2} f dx=hf(x_{i+\\frac12})$ for each cell, and add the contribution to the global RHS vector: "
   ]
  },
  {
   "cell_type": "code",
   "execution_count": 29,
   "metadata": {},
   "outputs": [],
   "source": [
    "for element in range(n_cells):\n",
    "\n",
    "    # Get cell length and midpoint\n",
    "    h     = mesh[element + 1] - mesh[element]   \n",
    "    x_mid = (mesh[element + 1] + mesh[element])/2.0\n",
    "    \n",
    "    # Evaluate loading term\n",
    "    f = distributed_load(x_mid)\n",
    "\n",
    "    # Compute and add RHS contributions\n",
    "    b[element:element + 2] += 0.5*h*f"
   ]
  },
  {
   "cell_type": "markdown",
   "metadata": {},
   "source": [
    "#### Apply Dirichet (displacement) boundary condition"
   ]
  },
  {
   "cell_type": "markdown",
   "metadata": {},
   "source": [
    "We're almost ready to solve a finite element problem, but we would get into trouble if we tried to solve $A \\vec{u} = \\vec{b}$ using the above stiffness matrix because it is singular (you can verify this by computing its determinant). The system is singular because we have not applied a Dirichlet boundary condition, and hence multiple solutions are possible.\n",
    "\n",
    "We impose the boundary condition $u = 0$ and $x=0$ by zeroing the first row and column of the matrix, placing a one on the first diagonal entry and setting the first entry on the RHS to zero. It should be clear algebraically that this will ensure that the first degree of freedom is equal to zero when we solve the system."
   ]
  },
  {
   "cell_type": "code",
   "execution_count": 30,
   "metadata": {},
   "outputs": [
    {
     "name": "stdout",
     "output_type": "stream",
     "text": [
      "[0.         0.31415927 0.31415927 0.31415927 0.31415927 0.31415927\n",
      " 0.31415927 0.31415927 0.31415927 0.31415927 0.        ]\n",
      "[[ 1.          0.          0.          0.          0.          0.\n",
      "   0.          0.          0.          0.          0.        ]\n",
      " [-3.30090859  5.89495883 -3.30090859  0.          0.          0.\n",
      "   0.          0.          0.          0.          0.        ]\n",
      " [ 0.         -3.30090859  5.89495883 -3.30090859  0.          0.\n",
      "   0.          0.          0.          0.          0.        ]\n",
      " [ 0.          0.         -3.30090859  5.89495883 -3.30090859  0.\n",
      "   0.          0.          0.          0.          0.        ]\n",
      " [ 0.          0.          0.         -3.30090859  5.89495883 -3.30090859\n",
      "   0.          0.          0.          0.          0.        ]\n",
      " [ 0.          0.          0.          0.         -3.30090859  5.89495883\n",
      "  -3.30090859  0.          0.          0.          0.        ]\n",
      " [ 0.          0.          0.          0.          0.         -3.30090859\n",
      "   5.89495883 -3.30090859  0.          0.          0.        ]\n",
      " [ 0.          0.          0.          0.          0.          0.\n",
      "  -3.30090859  5.89495883 -3.30090859  0.          0.        ]\n",
      " [ 0.          0.          0.          0.          0.          0.\n",
      "   0.         -3.30090859  5.89495883 -3.30090859  0.        ]\n",
      " [ 0.          0.          0.          0.          0.          0.\n",
      "   0.          0.         -3.30090859  5.89495883 -3.30090859]\n",
      " [ 0.          0.          0.          0.          0.          0.\n",
      "   0.          0.          0.          0.          1.        ]]\n"
     ]
    },
    {
     "data": {
      "image/png": "[encoded data removed]",
      "text/plain": [
       "<Figure size 432x288 with 1 Axes>"
      ]
     },
     "metadata": {
      "needs_background": "light"
     },
     "output_type": "display_data"
    }
   ],
   "source": [
    "# Get discretization matrix\n",
    "A = K - k**2*M\n",
    "\n",
    "# Block the boundary conditions on b\n",
    "b[0] = 0.\n",
    "b[-1] = 0.\n",
    "print(b)\n",
    "\n",
    "# Block the boundary conditions on A\n",
    "A[0,0] = 1.; A[0,1] = 0.\n",
    "A[-1,-1] = 1.; A[-1,-2] = 0.\n",
    "print(A.toarray())\n",
    "\n",
    "# Plot sparse patern\n",
    "import matplotlib as mp\n",
    "import matplotlib.pyplot as plt\n",
    "plt.spy(A)\n",
    "plt.show()"
   ]
  },
  {
   "cell_type": "markdown",
   "metadata": {},
   "source": [
    "#### Solve system of equations"
   ]
  },
  {
   "cell_type": "markdown",
   "metadata": {},
   "source": [
    "We can now solve the finite element system $\\boldsymbol{K}$:"
   ]
  },
  {
   "cell_type": "code",
   "execution_count": 31,
   "metadata": {},
   "outputs": [],
   "source": [
    "from scipy.sparse.linalg import spsolve\n",
    "u = spsolve(A, b)"
   ]
  },
  {
   "cell_type": "markdown",
   "metadata": {},
   "source": [
    "#### Visualising the solution"
   ]
  },
  {
   "cell_type": "markdown",
   "metadata": {},
   "source": [
    "We now plot the solution:"
   ]
  },
  {
   "cell_type": "code",
   "execution_count": 32,
   "metadata": {},
   "outputs": [
    {
     "data": {
      "image/png": "[encoded data removed]",
      "text/plain": [
       "<Figure size 720x576 with 1 Axes>"
      ]
     },
     "metadata": {
      "needs_background": "light"
     },
     "output_type": "display_data"
    }
   ],
   "source": [
    "# Plot the solution\n",
    "x = np.linspace(0, L, n_cells+1)\n",
    "plt.figure(figsize=(10,8))\n",
    "plt.plot(x, u, 'bo-')\n",
    "plt.plot(x, (np.cos(k*(x-np.pi/2))/np.cos(k*np.pi/2) -1)/k**2, 'rs--')\n",
    "plt.xlabel(r'$x$')\n",
    "plt.ylabel(r'$u(x)$')\n",
    "plt.legend(['Approx.','Exact'])\n",
    "plt.show()"
   ]
  },
  {
   "cell_type": "markdown",
   "metadata": {},
   "source": [
    "## A more programmatic approach"
   ]
  },
  {
   "cell_type": "markdown",
   "metadata": {},
   "source": [
    "We now present a finite element solver that is very similar the one above, but we now provide a programming interface so we can reuse a function to explore different loading functions and different levels of refinement of the mesh.\n",
    "\n",
    "If we use matrix notation, the finite element discretization can be read as a particular case of a finite difference method (in 1D only!), we will have:\n",
    "\n",
    "$$\n",
    "\\left(\\begin{bmatrix}\n",
    "1 & 0 & & & \\\\\n",
    "1 & -2 & 1 & &  \\\\\n",
    " & \\ddots & \\ddots & \\ddots & \\\\\n",
    " & & 1& -2& 1 \\\\\n",
    " & & & 0 & 1\n",
    "\\end{bmatrix}\n",
    "+\n",
    "\\frac{k^2h^2}{6}\n",
    "\\begin{bmatrix}\n",
    "0 & 0 & & & \\\\\n",
    "2 & 4 & 2 & &  \\\\\n",
    " & \\ddots & \\ddots & \\ddots & \\\\\n",
    " & & 2& 4& 2 \\\\\n",
    " & & & 0 & 0\n",
    "\\end{bmatrix}\n",
    "\\right)\n",
    "\\left[\\begin{array}{c} u_0 \\\\u_1 \\\\ ... \\\\ u_{n-1}\\\\u_n \\end{array}\\right] =\n",
    "\\left[\\begin{array}{c} 0 \\\\0 \\\\ ... \\\\ 0 \\\\1\\end{array}\\right]$$\n",
    "\n",
    "Therefore, we have $n+1$ equations in the system, we can store it using a sparse matrix (tridiagonal), and solve it using the sparse linear solver included in ``scipy``. "
   ]
  },
  {
   "cell_type": "code",
   "execution_count": 33,
   "metadata": {},
   "outputs": [],
   "source": [
    "def compute_fem(L, k, f_source, n_cells, quad_degree=3):\n",
    "\n",
    "    # Crarte mesh and compute cell size\n",
    "    n_nodes = n_cells + 1\n",
    "    mesh = np.linspace(0.0, L, n_nodes)\n",
    "    h = L/n_cells\n",
    "\n",
    "    # Compute locall stiffness matrix\n",
    "    k_e = np.array([[1, -1], [-1, 1]])/h\n",
    "    m_e = h*np.array([[2, 1], [1, 2]])/6\n",
    "    \n",
    "    # Assemble global stiffnes matrix\n",
    "    K = sparse.csr_matrix((n_nodes, n_nodes))\n",
    "    M = sparse.csr_matrix((n_nodes, n_nodes))\n",
    "    for element in range(n_cells):\n",
    "        K[element:element + 2, element:element + 2] += k_e\n",
    "        M[element:element + 2, element:element + 2] += m_e\n",
    "    \n",
    "    # Assemble RHS using Gauss quadrature\n",
    "    b = np.zeros(n_nodes)    \n",
    "    for element in range(n_cells):\n",
    "\n",
    "        # Get cell length and midpoint\n",
    "        h     = mesh[element + 1] - mesh[element]   \n",
    "        x_mid = (mesh[element + 1] + mesh[element])/2.0\n",
    "    \n",
    "        # Evaluate loading term\n",
    "        f = distributed_load(x_mid)\n",
    "\n",
    "        # Compute and add RHS contributions\n",
    "        b[element:element + 2] += 0.5*h*f\n",
    "\n",
    "    # Get discretization matrix\n",
    "    A = K - k**2*M\n",
    "\n",
    "    # Block the boundary conditions on b\n",
    "    b[0] = 0.\n",
    "    b[-1] = 0.\n",
    "\n",
    "    # Block the boundary conditions on A\n",
    "    A[0,0] = 1.; A[0,1] = 0.\n",
    "    A[-1,-1] = 1.; A[-1,-2] = 0.\n",
    "    \n",
    "    return spsolve(A, b), mesh\n",
    "\n",
    "def compute_exact(L, k, n_cells):\n",
    "    # Physical setting\n",
    "    x = np.linspace(0, L, n_cells+1)\n",
    "    return (np.cos(k*(x-L/2))/np.cos(k*L/2) -1)/k**2, x"
   ]
  },
  {
   "cell_type": "markdown",
   "metadata": {},
   "source": [
    "We want to see how the error is decreasing as soon as $h$ tends to zero:"
   ]
  },
  {
   "cell_type": "code",
   "execution_count": 34,
   "metadata": {},
   "outputs": [
    {
     "name": "stderr",
     "output_type": "stream",
     "text": [
      "/usr/local/lib/python3.8/dist-packages/scipy/sparse/_index.py:124: SparseEfficiencyWarning: Changing the sparsity structure of a csr_matrix is expensive. lil_matrix is more efficient.\n",
      "  self._set_arrayXarray(i, j, x)\n"
     ]
    },
    {
     "data": {
      "image/png": "[encoded data removed]",
      "text/plain": [
       "<Figure size 720x576 with 1 Axes>"
      ]
     },
     "metadata": {
      "needs_background": "light"
     },
     "output_type": "display_data"
    }
   ],
   "source": [
    "nvec = np.int_(np.logspace(1,3,5))\n",
    "error = np.zeros(len(nvec))\n",
    "for j,n in enumerate(nvec):\n",
    "    uh, mesh = compute_fem(L, k, distributed_load, n)\n",
    "    uex, mesh_ex = compute_exact(L, k, n)\n",
    "    error[j] = np.linalg.norm(uh-uex,np.inf)/np.linalg.norm(uex,np.inf)\n",
    "    \n",
    "plt.figure(figsize = (10,8))\n",
    "plt.loglog(L/nvec, error, 'bo--')\n",
    "plt.xlabel('h')\n",
    "plt.ylabel(r'$L^\\infty$-relative error')\n",
    "plt.axis(\"square\")\n",
    "plt.grid()\n",
    "plt.show()"
   ]
  },
  {
   "cell_type": "markdown",
   "metadata": {},
   "source": [
    "### Interactive solver\n",
    "\n",
    "We can make an interactive solver, where you can change the number of cells via a slider and see how the solution changes.\n",
    "You need to run this notebook in a Jupyter session to see and use the slider."
   ]
  },
  {
   "cell_type": "code",
   "execution_count": 35,
   "metadata": {},
   "outputs": [
    {
     "data": {
      "application/vnd.jupyter.widget-view+json": {
       "model_id": "aef423ca50c9435c9343394b79713b3b",
       "version_major": 2,
       "version_minor": 0
      },
      "text/plain": [
       "interactive(children=(IntSlider(value=5, description='number of cells', max=20, min=1), Output()), _dom_classe…"
      ]
     },
     "metadata": {},
     "output_type": "display_data"
    }
   ],
   "source": [
    "from ipywidgets import widgets\n",
    "from ipywidgets import interact\n",
    "\n",
    "# Compute reference solution with 100 cells\n",
    "u_ex, mesh_ex = compute_exact(L, k, 100)\n",
    "\n",
    "@interact(num_cells=widgets.IntSlider(min=1, max=20, value=5, description='number of cells'))\n",
    "def plot(num_cells=5):\n",
    "    plt.xlabel('$x$')\n",
    "    plt.ylabel('$u$')\n",
    "    plt.title('Finite element solution for the Helmholtz equation')\n",
    "    uh, mesh = compute_fem(L, k, distributed_load, num_cells)\n",
    "    plt.plot(mesh_ex, u_ex, '--', color='k', label='Exact');\n",
    "    plt.plot(mesh, uh, 'o-', label='Approx. : ' + str(len(mesh)-1) + ' cells');\n",
    "    plt.legend(loc='upper left');"
   ]
  },
  {
   "cell_type": "markdown",
   "metadata": {},
   "source": [
    "### Exercise\n",
    "Re-implement the FEM function ``compute_fem`` taking into account the finite difference analogy between FEM and FD discretization in 1D. For different values of grid nodes, compare the error values and the order of convergence in FEM and FD discretization: in this case, which is the method providing the best results?"
   ]
  },
  {
   "cell_type": "code",
   "execution_count": 36,
   "metadata": {},
   "outputs": [],
   "source": [
    "## YOUR CODE HERE"
   ]
  }
 ],
 "metadata": {
  "kernelspec": {
   "display_name": "Python 3",
   "language": "python",
   "name": "python3"
  },
  "language_info": {
   "codemirror_mode": {
    "name": "ipython",
    "version": 3
   },
   "file_extension": ".py",
   "mimetype": "text/x-python",
   "name": "python",
   "nbconvert_exporter": "python",
   "pygments_lexer": "ipython3",
   "version": "3.8.5"
  },
  "widgets": {
   "state": {
    "1855c7f43aa340e2827da1fdc0580e23": {
     "views": [
      {
       "cell_index": 55
      }
     ]
    }
   },
   "version": "1.2.0"
  }
 },
 "nbformat": 4,
 "nbformat_minor": 4
}

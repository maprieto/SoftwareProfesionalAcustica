{
 "cells": [
  {
   "cell_type": "markdown",
   "metadata": {},
   "source": [
    "# Software profesional en Acústica 2024-25 (M2i)\n",
    "\n",
    "*This notebook is inspired from Chapter 10 \"Timoshenko beams\", included in the book Ferreira, A. J., Fantuzzi, N. (2020). MATLAB codes for finite element analysis, Springer. Available in https://doi.org/10.1007/978-3-030-47952-7*"
   ]
  },
  {
   "cell_type": "markdown",
   "metadata": {},
   "source": [
    "First, we need to install on the fly FEniCS 2019.1.0 using the [FEM on Colab](https://fem-on-colab.github.io/packages.html) install script:"
   ]
  },
  {
   "cell_type": "code",
   "execution_count": 1,
   "metadata": {},
   "outputs": [],
   "source": [
    "try:\n",
    "    import dolfin\n",
    "except ImportError:\n",
    "    !wget \"https://fem-on-colab.github.io/releases/fenics-install-release-real.sh\" -O \"/tmp/fenics-install.sh\" && bash \"/tmp/fenics-install.sh\""
   ]
  },
  {
   "cell_type": "markdown",
   "metadata": {},
   "source": [
    "# Free vibrations of a clamped Timoshenko beam in FEniCS"
   ]
  },
  {
   "cell_type": "markdown",
   "metadata": {},
   "source": [
    "This notebook compute the eigenfrequencies and eigenmodes associated with a Timoshenko beam with clamped endpoints using a standard finite element discretization with *FEniCS*. Consider a beam of length $L$, the the system of partial differential equations are given by\n",
    "\\begin{align}\n",
    "    -\\omega^2\\rho A u_1-\\frac{\\kappa A E}{2(1+\\nu)}(u_1''-\\beta_1')=0& \\qquad\\text{in}\\quad (0,L),\\\\\n",
    "    -\\omega^2\\rho J_{1}\\beta_1-\\rho J_{1}\\beta''-v(u_1'-\\beta_1)=0 & \\qquad\\text{in}\\quad (0,L),\\\\\n",
    "    -\\omega^2\\rho A u_2-\\frac{\\kappa A E}{2(1+\\nu)}(u_2''-\\beta_2')=0& \\qquad\\text{in}\\quad (0,L),\\\\\n",
    "    -\\omega^2\\rho J_{2}\\beta_2-\\rho J_{2}\\beta_2''-v(u_2'-\\beta_2)=0 & \\qquad\\text{in}\\quad (0,L),\\\\\n",
    "    -\\omega^2\\rho Au_3-AEu_3''=0 & \\qquad\\text{in}\\quad (0,L),\\\\\n",
    "\\end{align}\n",
    "with clamped boundary conditions, i.e., $u_1(0)=u_1(L)=u_2(0)=u_2(L)=u_3(0)=u_3(L)=\\beta_2(0)=\\beta_2(L)=0$. In the equation written above,\n",
    " - $A$: area of the cross-section\n",
    " - $J_1$, $J_2$: second-moment of inertia with respect to the tranverse directions\n",
    " - $\\rho$: mass density\n",
    " - $E$: Young's elastic modulus\n",
    " - $\\nu$: Poisson coefficient\n",
    " - $\\kappa$: shear correction factor\n",
    "\n",
    "The eigenvalues to be computed are given by $\\lambda=\\omega^2$.\n",
    "\n",
    "#### Import Python modules"
   ]
  },
  {
   "cell_type": "code",
   "execution_count": 2,
   "metadata": {},
   "outputs": [],
   "source": [
    "from dolfin import *\n",
    "import numpy as np\n",
    "import matplotlib.pyplot as plt"
   ]
  },
  {
   "cell_type": "markdown",
   "metadata": {},
   "source": [
    "#### Creation of the mesh"
   ]
  },
  {
   "cell_type": "code",
   "execution_count": 3,
   "metadata": {},
   "outputs": [],
   "source": [
    "# Create mesh of the interval [0,L] with n elements\n",
    "L = 1.0; n=50\n",
    "mesh = IntervalMesh(n,0.,L)"
   ]
  },
  {
   "cell_type": "markdown",
   "metadata": {},
   "source": [
    "#### Definition of the constants in the model"
   ]
  },
  {
   "cell_type": "code",
   "execution_count": 5,
   "metadata": {},
   "outputs": [],
   "source": [
    "# Define constants in the model for a beam with rectangular cross section of b x h\n",
    "h = 0.01; b = 1.\n",
    "rhos=1. #  densidade de masa\n",
    "A=h*b #  area seccion transversal\n",
    "E=1e8 #  modulo de elongacion\n",
    "nu=0.3 #  coeficiente de Poisson\n",
    "G=E/(2.0*(1.0+nu)) #  modulo de cizallamento\n",
    "Ix=b*h**3/12 #  segundo momento de inercia xx\n",
    "Iy=h*b**3/12 #  segundo momento de inercia yy\n",
    "kappa=5/6 #  factor corrector\n",
    "rho0=Constant(rhos*A)\n",
    "rho1x=Constant(rhos*Ix)\n",
    "rho1y=Constant(rhos*Iy)\n",
    "k0=Constant(kappa*A*E/(2.0*(1.0+nu)))\n",
    "k1x=Constant(E*Ix)\n",
    "k1y=Constant(E*Iy)\n",
    "k3=Constant(A*E)"
   ]
  },
  {
   "cell_type": "markdown",
   "metadata": {},
   "source": [
    "#### Define the function space and the test/trial functions"
   ]
  },
  {
   "cell_type": "code",
   "execution_count": 6,
   "metadata": {},
   "outputs": [],
   "source": [
    "CG1  = FiniteElement(\"CG\", mesh.ufl_cell(), 1)\n",
    "W = FunctionSpace(mesh, MixedElement([CG1, CG1, CG1, CG1, CG1]))\n",
    "\n",
    "# Define the test and trial functions\n",
    "(v1, phi1, v2, phi2, u3) = TestFunctions(W)\n",
    "w = TrialFunction(W)\n",
    "u1, beta1, u2, beta2, v3 = split(w)"
   ]
  },
  {
   "cell_type": "markdown",
   "metadata": {},
   "source": [
    "#### Variational formulation"
   ]
  },
  {
   "cell_type": "code",
   "execution_count": 7,
   "metadata": {},
   "outputs": [],
   "source": [
    "# Define the forms\n",
    "a = (k0*u1.dx(0)*v1.dx(0)-k0*beta1*v1.dx(0)+k1x*beta1.dx(0)*phi1.dx(0)-k0*u1.dx(0)*phi1+k0*beta1*phi1)*dx \\\n",
    "    +(k0*u2.dx(0)*v2.dx(0)-k0*beta2*v2.dx(0)+k1y*beta2.dx(0)*phi2.dx(0)-k0*u2.dx(0)*phi2+k0*beta2*phi2)*dx \\\n",
    "    +(k3*u3.dx(0)*v3.dx(0))*dx\n",
    "b = (rho0*u1*v1+rho1x*beta1*phi1+rho0*u2*v2+rho1y*beta2*phi2+rho0*u3*v3)*dx"
   ]
  },
  {
   "cell_type": "markdown",
   "metadata": {},
   "source": [
    "#### Boundary conditions"
   ]
  },
  {
   "cell_type": "code",
   "execution_count": 8,
   "metadata": {},
   "outputs": [],
   "source": [
    "# Null boundary data\n",
    "zero = Constant(0.)\n",
    "bc_u1 = DirichletBC(W.sub(0), zero, \"on_boundary\")\n",
    "bc_u2 = DirichletBC(W.sub(2), zero, \"on_boundary\")\n",
    "bc_beta2 = DirichletBC(W.sub(3), zero, \"on_boundary\")\n",
    "bc_u3 = DirichletBC(W.sub(4), zero, \"on_boundary\")\n",
    "bcs=[bc_u1, bc_u2, bc_beta2, bc_u3]"
   ]
  },
  {
   "cell_type": "markdown",
   "metadata": {},
   "source": [
    "#### Assemble and apply the Dirichlet boundary conditions for the clamped case"
   ]
  },
  {
   "cell_type": "code",
   "execution_count": 9,
   "metadata": {},
   "outputs": [
    {
     "name": "stdout",
     "output_type": "stream",
     "text": [
      "Calling FFC just-in-time (JIT) compiler, this may take some time.\n",
      "Calling FFC just-in-time (JIT) compiler, this may take some time.\n",
      "Calling FFC just-in-time (JIT) compiler, this may take some time.\n",
      "Calling FFC just-in-time (JIT) compiler, this may take some time.\n"
     ]
    }
   ],
   "source": [
    "# Assemble the stiffness matrix (A) and mass matrix (B)\n",
    "A = PETScMatrix()\n",
    "B = PETScMatrix()\n",
    "assemble(a, tensor=A)\n",
    "assemble(b, tensor=B)\n",
    "for bc in bcs:\n",
    "    bc.apply(A)\n",
    "    bc.apply(B)"
   ]
  },
  {
   "cell_type": "markdown",
   "metadata": {},
   "source": [
    "#### Compute the smallest eigenvalues"
   ]
  },
  {
   "cell_type": "code",
   "execution_count": 10,
   "metadata": {},
   "outputs": [],
   "source": [
    "# Solve the eigensystem\n",
    "esolver = SLEPcEigenSolver(A, B)\n",
    "esolver.parameters[\"spectrum\"] = \"smallest real\"\n",
    "esolver.solve()"
   ]
  },
  {
   "cell_type": "markdown",
   "metadata": {},
   "source": [
    "#### Plot the first three eigenmodes"
   ]
  },
  {
   "cell_type": "code",
   "execution_count": 11,
   "metadata": {},
   "outputs": [
    {
     "name": "stdout",
     "output_type": "stream",
     "text": [
      "Eigenfrequency ( 8 ): 68.51114741590914\n",
      "Eigenfrequency ( 9 ): 274.17574394646215\n",
      "Eigenfrequency ( 10 ): 617.3872163392205\n",
      "Eigenfrequency ( 11 ): 1098.8011486341713\n",
      "Eigenfrequency ( 12 ): 1719.3350072411033\n",
      "Eigenfrequency ( 13 ): 2480.167588501302\n",
      "Eigenfrequency ( 14 ): 2724.9089320074136\n",
      "Eigenfrequency ( 15 ): 3382.738016029426\n",
      "Eigenfrequency ( 16 ): 4428.744049863964\n",
      "Eigenfrequency ( 17 ): 5000.82250756883\n",
      "Eigenfrequency ( 18 ): 5023.040383139946\n",
      "Eigenfrequency ( 19 ): 5620.139405323226\n",
      "Eigenfrequency ( 20 ): 6364.947063811606\n",
      "Eigenfrequency ( 21 ): 6959.129695964724\n",
      "Eigenfrequency ( 22 ): 8184.39948632151\n",
      "Eigenfrequency ( 23 ): 8448.16652379881\n",
      "Eigenfrequency ( 24 ): 10006.581028654064\n"
     ]
    }
   ],
   "source": [
    "# Extract largest (first) eigenpair\n",
    "cont = 0; tol = 1.\n",
    "for i in range(25):\n",
    "    r, c, xr, xc = esolver.get_eigenpair(i)\n",
    "    eigenfreq = np.sqrt(r)/2.0/pi\n",
    "    if eigenfreq > tol:\n",
    "        print(\"Eigenfrequency (\",i,\"):\", eigenfreq)"
   ]
  },
  {
   "cell_type": "code",
   "execution_count": 12,
   "metadata": {},
   "outputs": [
    {
     "name": "stdout",
     "output_type": "stream",
     "text": [
      "Eigenfrequency to plot: 68.51114741590914\n"
     ]
    },
    {
     "data": {
      "text/plain": [
       "<matplotlib.legend.Legend at 0x7f1f0c6b1700>"
      ]
     },
     "execution_count": 12,
     "metadata": {},
     "output_type": "execute_result"
    },
    {
     "data": {
      "image/png": "[encoded data removed]",
      "text/plain": [
       "<Figure size 432x288 with 1 Axes>"
      ]
     },
     "metadata": {
      "needs_background": "light"
     },
     "output_type": "display_data"
    },
    {
     "data": {
      "image/png": "[encoded data removed]",
      "text/plain": [
       "<Figure size 432x288 with 1 Axes>"
      ]
     },
     "metadata": {
      "needs_background": "light"
     },
     "output_type": "display_data"
    }
   ],
   "source": [
    "# Plot eigenmode 9th \n",
    "r, c, xr, xc = esolver.get_eigenpair(8)\n",
    "print(\"Eigenfrequency to plot:\", np.sqrt(r)/2.0/pi)\n",
    "# Initialize function and assign eigenvector\n",
    "w = Function(W)\n",
    "w.vector()[:] = xr \n",
    "(u1, beta1, u2, beta2, u3) = w.split(True)\n",
    "# Plot eigenfunction\n",
    "plt.figure()\n",
    "plot(u1, label=r\"$Re(u_1)$\")\n",
    "plot(u2, label=r\"$Re(u_2)$\")\n",
    "plot(u3, label=r\"$Re(u_3)$\")\n",
    "plt.axis('tight')\n",
    "plt.legend()\n",
    "plt.figure()\n",
    "plot(beta1, label=r\"$Re(\\beta_1)$\")\n",
    "plot(beta2, label=r\"$Re(\\beta_2)$\")\n",
    "plt.axis('tight')\n",
    "plt.legend()"
   ]
  },
  {
   "cell_type": "markdown",
   "metadata": {},
   "source": [
    "### Exercise\n",
    "Using an analogous code, compute the eigenfrequencies of the Helmholtz problem with sound speed $c=340$ and Dirichlet boundary conditions $u(0)=u(L)=0$."
   ]
  },
  {
   "cell_type": "code",
   "execution_count": 13,
   "metadata": {},
   "outputs": [],
   "source": [
    "## YOUR CODE HERE"
   ]
  }
 ],
 "metadata": {
  "kernelspec": {
   "display_name": "Python 3",
   "language": "python",
   "name": "python3"
  },
  "language_info": {
   "codemirror_mode": {
    "name": "ipython",
    "version": 3
   },
   "file_extension": ".py",
   "mimetype": "text/x-python",
   "name": "python",
   "nbconvert_exporter": "python",
   "pygments_lexer": "ipython3",
   "version": "3.8.10"
  },
  "widgets": {
   "state": {
    "1855c7f43aa340e2827da1fdc0580e23": {
     "views": [
      {
       "cell_index": 55
      }
     ]
    }
   },
   "version": "1.2.0"
  }
 },
 "nbformat": 4,
 "nbformat_minor": 4
}

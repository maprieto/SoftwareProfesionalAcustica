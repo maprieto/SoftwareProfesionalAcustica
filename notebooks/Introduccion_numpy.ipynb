{
 "cells": [
  {
   "cell_type": "markdown",
   "metadata": {},
   "source": [
    "# Software profesional en Acústica 2024-25 (M2i)\n",
    "\n",
    "*This notebook contains some code samples and text translated to Spanish from the notebooks [IA-maths-Jupyter](https://github.com/garth-wells/IA-maths-Jupyter), used in the course **Mathematical Models** in the University of Cambridge, and created by Garth N. Wells. All text is made available under the [Creative Commons Attribution-ShareAlike 4.0 International Public License](https://creativecommons.org/licenses/by-sa/4.0/legalcode). The code is released under the [MIT license](https://opensource.org/licenses/MIT).*"
   ]
  },
  {
   "cell_type": "markdown",
   "metadata": {},
   "source": [
    "# Introducción\n",
    "\n",
    "Trabajar con números es uno de los problemas comunes y centrales en cualquier faceta de la simulación numérica. Debido a su importancia, existe una gran cantidad de bibliotecas dedicadas a implementar métodos eficientes para manipular números y funciones. Incluso existen lenguajes y entornos de programación especialmente diseñados para este fin, como el lenguaje Fortran o Matlab/Octave.\n",
    "\n",
    "Para el lenguaje Python, que será el que utilizaremos en la primera parte del curso *Software Profesional en Acústica*, la librería **NumPy** (http://www.numpy.org/) es la más utilizada para cálculos numéricos. Esta biblioteca utiliza una amplia gama de estructuras de datos y funciones para cálculos numéricos. En este cuaderno Jupyter, se revisarán algunas de estas características.\n",
    "\n",
    "**NumPy** es una biblioteca enorme y tiene una funcionalidad muy amplia. Este guión de práctica solo representa una introducción muy breve. Para descubrir más funciones y cómo usarlo para muchos otros propósitos, la mejor fuente de información en línea son los motores de búsqueda, y en particular la comunidad http://stackoverflow.com/.\n",
    "\n",
    "Para utilizar este script de práctica directamente desde una instalación de Python con *Anaconda*, simplemente haga clic en la aplicación 'Jupyter notebook' que ya está instalada de forma predeterminada (para más detalles: https://jupyter-notebook-beginner-guide.readthedocs.io/en/latest/execute.html).\n",
    "\n",
    "\n",
    "## Objetivos\n",
    "\n",
    "- Trabajar con objetos y métodos\n",
    "- Introducción a matrices unidimensionales de números (`numpy.array`)\n",
    "- Aplicar operaciones numéricas elementales\n",
    "- Manipulación de vectores numéricos (indexación, corte, etc.)\n",
    "- Ejercicio: eficiencia de **Numpy** en funciones vectorizadas y no vectorizadas"
   ]
  },
  {
   "cell_type": "markdown",
   "metadata": {},
   "source": [
    "# Importar el módulo **NumPy**\n",
    "\n",
    "Para tener **NumPy** disponible en su código, primero debe importar su módulo. Para ello se ha extendido mucho la costumbre de importar **Numpy** utilizando el atajo 'np':"
   ]
  },
  {
   "cell_type": "code",
   "execution_count": 1,
   "metadata": {},
   "outputs": [],
   "source": [
    "import numpy as np"
   ]
  },
  {
   "cell_type": "markdown",
   "metadata": {},
   "source": [
    "# Programación orientada a objetos\n",
    "\n",
    "Como todos los módulos de Python, la biblioteca **Numpy** se implementa siguiendo una estrategia de programación orientada a objetos. Por lo tanto, cualquier estructura de datos en Python, incluso la más simple, debe entenderse como un objeto que pertenece a una clase, y todas las operaciones que podemos hacer con estos objetos son métodos implementados en esa clase de objetos. Incluso un número es un objeto de una clase:"
   ]
  },
  {
   "cell_type": "code",
   "execution_count": 2,
   "metadata": {},
   "outputs": [
    {
     "name": "stdout",
     "output_type": "stream",
     "text": [
      "3.4\n",
      "<class 'float'>\n"
     ]
    },
    {
     "data": {
      "text/plain": [
       "True"
      ]
     },
     "execution_count": 2,
     "metadata": {},
     "output_type": "execute_result"
    }
   ],
   "source": [
    "a = 3.4\n",
    "print(a)\n",
    "print(type(a))\n",
    "isinstance(a,float)"
   ]
  },
  {
   "cell_type": "markdown",
   "metadata": {},
   "source": [
    "Para comprobar los atributos y métodos que podemos aplicar a un objeto concreto, podemos utilizar la función `dir()`, que devuelve una lista con sus nombres. Como puedes ver en la lista, podemos distinguir dos tipos de atributos y métodos: los que van con el prefijo y sufijo `__*__` y los que no. Los del primer tipo se denominan **privados** y suelen referirse a los cálculos más básicos que se pueden realizar dentro de la clase a la que pertenece el objeto."
   ]
  },
  {
   "cell_type": "code",
   "execution_count": 3,
   "metadata": {},
   "outputs": [
    {
     "data": {
      "text/plain": [
       "['__abs__',\n",
       " '__add__',\n",
       " '__bool__',\n",
       " '__class__',\n",
       " '__delattr__',\n",
       " '__dir__',\n",
       " '__divmod__',\n",
       " '__doc__',\n",
       " '__eq__',\n",
       " '__float__',\n",
       " '__floordiv__',\n",
       " '__format__',\n",
       " '__ge__',\n",
       " '__getattribute__',\n",
       " '__getformat__',\n",
       " '__getnewargs__',\n",
       " '__gt__',\n",
       " '__hash__',\n",
       " '__init__',\n",
       " '__init_subclass__',\n",
       " '__int__',\n",
       " '__le__',\n",
       " '__lt__',\n",
       " '__mod__',\n",
       " '__mul__',\n",
       " '__ne__',\n",
       " '__neg__',\n",
       " '__new__',\n",
       " '__pos__',\n",
       " '__pow__',\n",
       " '__radd__',\n",
       " '__rdivmod__',\n",
       " '__reduce__',\n",
       " '__reduce_ex__',\n",
       " '__repr__',\n",
       " '__rfloordiv__',\n",
       " '__rmod__',\n",
       " '__rmul__',\n",
       " '__round__',\n",
       " '__rpow__',\n",
       " '__rsub__',\n",
       " '__rtruediv__',\n",
       " '__set_format__',\n",
       " '__setattr__',\n",
       " '__sizeof__',\n",
       " '__str__',\n",
       " '__sub__',\n",
       " '__subclasshook__',\n",
       " '__truediv__',\n",
       " '__trunc__',\n",
       " 'as_integer_ratio',\n",
       " 'conjugate',\n",
       " 'fromhex',\n",
       " 'hex',\n",
       " 'imag',\n",
       " 'is_integer',\n",
       " 'real']"
      ]
     },
     "execution_count": 3,
     "metadata": {},
     "output_type": "execute_result"
    }
   ],
   "source": [
    "dir(a)"
   ]
  },
  {
   "cell_type": "markdown",
   "metadata": {},
   "source": [
    "Por ejemplo, podemos comprobar si un número real es mayor que otro de dos maneras diferentes: utilizando el operador lógico `>` o utilizando su método privado `__ge__`:"
   ]
  },
  {
   "cell_type": "code",
   "execution_count": 4,
   "metadata": {},
   "outputs": [
    {
     "name": "stdout",
     "output_type": "stream",
     "text": [
      "False\n",
      "False\n"
     ]
    }
   ],
   "source": [
    "a=3.4; b=5.3\n",
    "print(a.__gt__(b))\n",
    "print(a > b)"
   ]
  },
  {
   "cell_type": "markdown",
   "metadata": {},
   "source": [
    "En cualquier caso, en Python tanto los métodos privados como los públicos se utilizan de la misma manera. Por ejemplo:"
   ]
  },
  {
   "cell_type": "code",
   "execution_count": null,
   "metadata": {},
   "outputs": [
    {
     "name": "stdout",
     "output_type": "stream",
     "text": [
      "False\n",
      "3\n",
      "3\n"
     ]
    }
   ],
   "source": [
    "a=3.4\n",
    "print(a.is_integer())\n",
    "print(a.__int__())\n",
    "print(int(a))"
   ]
  },
  {
   "cell_type": "markdown",
   "metadata": {},
   "source": [
    "> **NOTA**: En este curso no trabajaremos ni será necesario implementar código utilizando programación orientada a objetos. Pero lo que será necesario es estar atentos a cuándo se utilizan objetos de diferentes clases y qué atributos y métodos se definen en cada caso."
   ]
  },
  {
   "cell_type": "markdown",
   "metadata": {},
   "source": [
    "# Vectores de números\n",
    "\n",
    "En Python hay muchas formas de almacenar datos numéricos (o no), como la estructura de lista o tupla. En particular, las listas pueden contener una secuencia finita de números ordenados (y utilizar un índice para acceder a cada uno de los elementos de la lista). Además, son lo suficientemente flexibles para contener datos de diferente naturaleza (combinaciones de números enteros, números reales, listas de listas, etc.).\n",
    "\n",
    "Pero esta flexibilidad de las listas en Python hace que su rendimiento computacional sea muy limitado. En la mayoría de las aplicaciones científicas en matemáticas e ingeniería de datos, los problemas del mundo real involucran operaciones en enormes conjuntos de datos y, por lo tanto, la velocidad computacional es muy importante para estos grandes problemas. Para trabajar eficientemente con estos problemas, **Numpy** proporciona funciones especializadas y estructuras de datos para un cálculo numérico eficiente. En particular, para el caso de arreglos de números del mismo tipo (perdiendo algo de la flexibilidad de las listas pero ganando eficiencia computacional)."
   ]
  },
  {
   "cell_type": "markdown",
   "metadata": {},
   "source": [
    "## Vectores unidimensionales\n",
    "\n",
    "Un vector unidimensional es una colección ordenada de números a la que se puede acceder mediante un índice (que preserva el orden). De forma predeterminada, los vectores en **Numpy** son vectores de fila."
   ]
  },
  {
   "cell_type": "markdown",
   "metadata": {},
   "source": [
    "### Creación e indexación de vectores\n",
    "\n",
    "Para crear un vector **Numpy** de longitud 10 e inicializado con ceros, se utilizaría la función `np.zeros()`:"
   ]
  },
  {
   "cell_type": "code",
   "execution_count": 6,
   "metadata": {},
   "outputs": [
    {
     "name": "stdout",
     "output_type": "stream",
     "text": [
      "[0. 0. 0. 0. 0. 0. 0. 0. 0. 0.]\n",
      "<class 'numpy.ndarray'>\n"
     ]
    }
   ],
   "source": [
    "u = np.zeros(10)\n",
    "print(u)\n",
    "print(type(u))"
   ]
  },
  {
   "cell_type": "markdown",
   "metadata": {},
   "source": [
    "El tipo predeterminado de números contenidos en vectores en **Numpy** es `float64` (que es el tipo almacenado en `np.float`). Si desea utilizar otros tipos, debe utilizar el argumento opcional \"dtype\". El tipo de números contenidos en un vector se puede comprobar accediendo al atributo `dtype` de los vectores **Numpy**:"
   ]
  },
  {
   "cell_type": "code",
   "execution_count": null,
   "metadata": {},
   "outputs": [
    {
     "name": "stdout",
     "output_type": "stream",
     "text": [
      "float64\n",
      "[0 0 0 0 0]\n",
      "<class 'numpy.ndarray'>\n",
      "int64\n"
     ]
    }
   ],
   "source": [
    "print(u.dtype)\n",
    "w = np.zeros(5, dtype=int)\n",
    "print(w)\n",
    "print(type(w))\n",
    "print(w.dtype)"
   ]
  },
  {
   "cell_type": "markdown",
   "metadata": {},
   "source": [
    "Lo que no es posible, por ejemplo, es agregar un valor de cadena de texto (de tipo `string`) a un objeto `numpy.ndarray`, ya que todos los elementos del vector deben ser del mismo tipo (o de un tipo que admita una conversión) y también deben tener el mismo tamaño. Para comprobar el tamaño de un vector, se puede utilizar la función `len`:"
   ]
  },
  {
   "cell_type": "code",
   "execution_count": null,
   "metadata": {},
   "outputs": [
    {
     "name": "stdout",
     "output_type": "stream",
     "text": [
      "10\n",
      "[0. 0. 0. 0. 0. 0. 0. 0. 0. 0.]\n"
     ]
    },
    {
     "ename": "ValueError",
     "evalue": "operands could not be broadcast together with shapes (10,) (5,) ",
     "output_type": "error",
     "traceback": [
      "\u001b[0;31m---------------------------------------------------------------------------\u001b[0m",
      "\u001b[0;31mValueError\u001b[0m                                Traceback (most recent call last)",
      "\u001b[0;32m<ipython-input-8-13b0f83bf556>\u001b[0m in \u001b[0;36m<module>\u001b[0;34m\u001b[0m\n\u001b[1;32m      2\u001b[0m \u001b[0mv\u001b[0m \u001b[0;34m=\u001b[0m \u001b[0mnp\u001b[0m\u001b[0;34m.\u001b[0m\u001b[0mzeros\u001b[0m\u001b[0;34m(\u001b[0m\u001b[0;36m10\u001b[0m\u001b[0;34m,\u001b[0m \u001b[0mdtype\u001b[0m\u001b[0;34m=\u001b[0m\u001b[0mnp\u001b[0m\u001b[0;34m.\u001b[0m\u001b[0mint\u001b[0m\u001b[0;34m)\u001b[0m\u001b[0;34m\u001b[0m\u001b[0;34m\u001b[0m\u001b[0m\n\u001b[1;32m      3\u001b[0m \u001b[0mprint\u001b[0m\u001b[0;34m(\u001b[0m\u001b[0mu\u001b[0m \u001b[0;34m+\u001b[0m \u001b[0mv\u001b[0m\u001b[0;34m)\u001b[0m \u001b[0;31m# Implicitamente faise unha conversión de tipo de int64 a float64\u001b[0m\u001b[0;34m\u001b[0m\u001b[0;34m\u001b[0m\u001b[0m\n\u001b[0;32m----> 4\u001b[0;31m \u001b[0mprint\u001b[0m\u001b[0;34m(\u001b[0m\u001b[0mu\u001b[0m \u001b[0;34m+\u001b[0m \u001b[0mw\u001b[0m\u001b[0;34m)\u001b[0m \u001b[0;31m# ERRO: Os vectores non teñen o mesmo tamaño!\u001b[0m\u001b[0;34m\u001b[0m\u001b[0;34m\u001b[0m\u001b[0m\n\u001b[0m",
      "\u001b[0;31mValueError\u001b[0m: operands could not be broadcast together with shapes (10,) (5,) "
     ]
    }
   ],
   "source": [
    "print(len(u))\n",
    "v = np.zeros(10, dtype=int)\n",
    "print(u + v) # Implicitamente se hace una conversión de tipo de int64 a float64\n",
    "print(u + w) # ERROR: los vectores no tienen el mismo tamaño!"
   ]
  },
  {
   "cell_type": "markdown",
   "metadata": {},
   "source": [
    "Una forma más específica de comprobar la dimensión de un vector es utilizar `u.shape`, que devuelve una tupla con las dimensiones del vector:"
   ]
  },
  {
   "cell_type": "code",
   "execution_count": 10,
   "metadata": {},
   "outputs": [
    {
     "name": "stdout",
     "output_type": "stream",
     "text": [
      "(10,)\n"
     ]
    }
   ],
   "source": [
    "print(u.shape)"
   ]
  },
  {
   "cell_type": "markdown",
   "metadata": {},
   "source": [
    "`shape` nos informa sobre el tamaño del vector en *cada* dirección. En el caso de los vectores, solo hay una única dirección, mientras que en conjuntos de datos con múltiples índices (matrices o tensores de $n$ dimensiones) `shape` nos informaría del tamaño de estas estructuras de datos en cada dirección. Por ejemplo, para crear una matriz de enteros de ceros de tamaño $2\\times 3$:"
   ]
  },
  {
   "cell_type": "code",
   "execution_count": null,
   "metadata": {},
   "outputs": [
    {
     "name": "stdout",
     "output_type": "stream",
     "text": [
      "[[0 0 0]\n",
      " [0 0 0]]\n",
      "(2, 3)\n"
     ]
    }
   ],
   "source": [
    "A =  np.zeros((2,3), dtype=int)\n",
    "print(A)\n",
    "print(A.shape)"
   ]
  },
  {
   "cell_type": "markdown",
   "metadata": {},
   "source": [
    "Podemos también cambiar las entradas de un vector usando sus índices,"
   ]
  },
  {
   "cell_type": "code",
   "execution_count": 12,
   "metadata": {},
   "outputs": [
    {
     "name": "stdout",
     "output_type": "stream",
     "text": [
      "[0. 0. 0. 0. 0. 0. 0. 0. 0. 0.]\n",
      "[10.   0.   0.  -4.3  0.   0.   0.   0.   0.   1. ]\n"
     ]
    }
   ],
   "source": [
    "print(u)\n",
    "u[0] = 10.0\n",
    "u[3] = -4.3\n",
    "u[9] = 1.0\n",
    "print(u)"
   ]
  },
  {
   "cell_type": "markdown",
   "metadata": {},
   "source": [
    "> **NOTA IMPORTANTE**: ¡Recuerde que los valores del índice comienzan en cero!\n",
    "\n",
    "Obviamente, hay otras formas de crear vectores, como usar la función `ones` para crear un vector que contenga solo `ones`:"
   ]
  },
  {
   "cell_type": "code",
   "execution_count": 13,
   "metadata": {},
   "outputs": [
    {
     "name": "stdout",
     "output_type": "stream",
     "text": [
      "[1. 1. 1. 1. 1.]\n",
      "float64\n"
     ]
    }
   ],
   "source": [
    "w = np.ones(5)\n",
    "print(w)\n",
    "print(w.dtype)"
   ]
  },
  {
   "cell_type": "markdown",
   "metadata": {},
   "source": [
    "o un vector de valores aleatorios:"
   ]
  },
  {
   "cell_type": "code",
   "execution_count": 14,
   "metadata": {},
   "outputs": [
    {
     "name": "stdout",
     "output_type": "stream",
     "text": [
      "[0.99555636 0.21770343 0.82258275 0.79557819 0.26750689 0.2909781 ]\n"
     ]
    }
   ],
   "source": [
    "w = np.random.rand(6)\n",
    "print(w)"
   ]
  },
  {
   "cell_type": "markdown",
   "metadata": {},
   "source": [
    "o también un vector de números de tipo `numpy.array` a partir de una lista Python de números:"
   ]
  },
  {
   "cell_type": "code",
   "execution_count": 15,
   "metadata": {},
   "outputs": [
    {
     "name": "stdout",
     "output_type": "stream",
     "text": [
      "[ 4.  8.  9. 11. -2.]\n"
     ]
    }
   ],
   "source": [
    "u = [4.0, 8.0, 9.0, 11.0, -2.0]\n",
    "v = np.array(u)\n",
    "print(v)"
   ]
  },
  {
   "cell_type": "markdown",
   "metadata": {},
   "source": [
    "Existen otros dos métodos para crear vectores de números que nos serán útiles a lo largo del curso (y en particular cuando tengamos que graficar funciones en una o varias variables):\n",
    "- `numpy.arange`\n",
    "- `numpy.linspace`\n",
    "\n",
    "La función `arange` crea un vector con valores enteros consecutivos (similar a la función `range` de Python). Para crear el vector de fila $\\vec{u}=(0, 1, 2, 3, 4, 5)$ usando `arange`:"
   ]
  },
  {
   "cell_type": "code",
   "execution_count": 16,
   "metadata": {},
   "outputs": [
    {
     "name": "stdout",
     "output_type": "stream",
     "text": [
      "[0 1 2 3 4 5]\n",
      "<class 'numpy.ndarray'>\n",
      "int64\n"
     ]
    }
   ],
   "source": [
    "u = np.arange(6)\n",
    "print(u)\n",
    "print(type(u))\n",
    "print(u.dtype)"
   ]
  },
  {
   "cell_type": "markdown",
   "metadata": {},
   "source": [
    "Podemos verificar que el número $6$ no está incluido ya que el rango de valores comienza en $0$ y el vector solo tiene seis elementos. Para cambiar el valor numérico en el que comienza el vector:"
   ]
  },
  {
   "cell_type": "code",
   "execution_count": 17,
   "metadata": {},
   "outputs": [
    {
     "name": "stdout",
     "output_type": "stream",
     "text": [
      "[2 3 4 5]\n"
     ]
    }
   ],
   "source": [
    "u = np.arange(2, 6)\n",
    "print(u)"
   ]
  },
  {
   "cell_type": "markdown",
   "metadata": {},
   "source": [
    "La función `linspace` crea un vector de números igualmente espaciados con un valor inicial y final (ambos incluidos) y un tamaño determinado:"
   ]
  },
  {
   "cell_type": "code",
   "execution_count": 18,
   "metadata": {},
   "outputs": [
    {
     "name": "stdout",
     "output_type": "stream",
     "text": [
      "[  0.  20.  40.  60.  80. 100.]\n",
      "float64\n"
     ]
    }
   ],
   "source": [
    "w = np.linspace(0., 100., 6)\n",
    "print(w)\n",
    "print(w.dtype)"
   ]
  },
  {
   "cell_type": "markdown",
   "metadata": {},
   "source": [
    "Esta función `linspace` junto con la función `meshgrid` se utilizarán ampliamente para trazar funciones de una y varias variables a lo largo de este curso."
   ]
  },
  {
   "cell_type": "markdown",
   "metadata": {},
   "source": [
    "### Funciones y aritmética sobre vectores\n",
    "\n",
    "Los vectores en **NumPy** admiten operaciones aritméticas básicas como producto, suma y resta:"
   ]
  },
  {
   "cell_type": "code",
   "execution_count": 19,
   "metadata": {},
   "outputs": [
    {
     "name": "stdout",
     "output_type": "stream",
     "text": [
      "[1.  0.2 1.2]\n",
      "[2.  0.1 2.1]\n",
      "[3.  0.3 3.3]\n"
     ]
    }
   ],
   "source": [
    "a = np.array([1.0, 0.2, 1.2])\n",
    "b = np.array([2.0, 0.1, 2.1])\n",
    "print(a)\n",
    "print(b)\n",
    "\n",
    "# Suma de a e b\n",
    "c = a + b\n",
    "print(c)"
   ]
  },
  {
   "cell_type": "markdown",
   "metadata": {},
   "source": [
    "y en el caso del producto de sus elementos por un valor escalar,"
   ]
  },
  {
   "cell_type": "code",
   "execution_count": 20,
   "metadata": {},
   "outputs": [
    {
     "name": "stdout",
     "output_type": "stream",
     "text": [
      "[10.  2. 12.]\n"
     ]
    }
   ],
   "source": [
    "c = 10.0*a\n",
    "print(c)"
   ]
  },
  {
   "cell_type": "markdown",
   "metadata": {},
   "source": [
    "y elevar sus componentes a una potencia:"
   ]
  },
  {
   "cell_type": "code",
   "execution_count": 21,
   "metadata": {},
   "outputs": [
    {
     "name": "stdout",
     "output_type": "stream",
     "text": [
      "[ 4  9 16]\n"
     ]
    }
   ],
   "source": [
    "a = np.array([2, 3, 4])\n",
    "print(a**2)"
   ]
  },
  {
   "cell_type": "markdown",
   "metadata": {},
   "source": [
    "También se pueden aplicar las funciones de cálculo usual a cada una de sus componentes:"
   ]
  },
  {
   "cell_type": "code",
   "execution_count": null,
   "metadata": {},
   "outputs": [
    {
     "name": "stdout",
     "output_type": "stream",
     "text": [
      "[0.         1.57079633 3.14159265 4.71238898]\n",
      "[ 0.0000000e+00  1.0000000e+00  1.2246468e-16 -1.0000000e+00]\n"
     ]
    }
   ],
   "source": [
    "# Crear un vector [0, π/2, π, 3π/2]\n",
    "a = np.array([0.0, np.pi/2, np.pi, 3*np.pi/2])\n",
    "print(a)\n",
    "\n",
    "# Calcular el seno de cada componente del vector\n",
    "b = np.sin(a)\n",
    "print(b)"
   ]
  },
  {
   "cell_type": "markdown",
   "metadata": {},
   "source": [
    "El código anterior calcula el seno de cada coeficiente del vector `a`. Debemos tener en cuenta que la función que se utiliza es `np.sin`, que depende directamente del módulo **Numpy**. El uso de cualquier otra implementación de la función en otros módulos (por ejemplo en el módulo **Math**) podría generar un error."
   ]
  },
  {
   "cell_type": "markdown",
   "metadata": {},
   "source": [
    "Obviamente, también podríamos calcular el seno de cada coeficiente del vector, accediendo a cada uno de los elementos por su índice y haciendo los cálculos dentro de un bucle `for`:"
   ]
  },
  {
   "cell_type": "code",
   "execution_count": 23,
   "metadata": {},
   "outputs": [
    {
     "name": "stdout",
     "output_type": "stream",
     "text": [
      "[ 0.0000000e+00  1.0000000e+00  1.2246468e-16 -1.0000000e+00]\n"
     ]
    }
   ],
   "source": [
    "b = np.zeros(len(a))\n",
    "for i in range(len(a)):\n",
    "    b[i] = np.sin(a[i])\n",
    "\n",
    "print(b)"
   ]
  },
  {
   "cell_type": "markdown",
   "metadata": {},
   "source": [
    "En este caso el programa es más largo y más difícil de leer. Además, en muchos casos será más lento. La manipulación de vectores y cualquier cálculo realizado entre ellos sin acceder a los índices se denominará \"vectorización\". Cuando sea posible, el uso de la vectorización aumentará el rendimiento y la velocidad de los códigos de cálculo. En el ejercicio final de este guión se analizará el desempeño de este tipo de técnicas."
   ]
  },
  {
   "cell_type": "markdown",
   "metadata": {},
   "source": [
    "# Troceado de vectores\n",
    "\n",
    "Cuando se trabaja con vectores de números, es común tener que extraer un subconjunto de ellos para crear un nuevo vector. Por ejemplo, obtener los tres primeros coeficientes de un vector o en el caso de matrices, restringir los cálculos a su segunda columna. Este tipo de operación se llama segmentación de matrices.\n",
    "\n",
    "Exploremos esto a través de varios ejemplos, comenzando trabajando con un vector de valores aleatorios:"
   ]
  },
  {
   "cell_type": "code",
   "execution_count": 24,
   "metadata": {},
   "outputs": [
    {
     "name": "stdout",
     "output_type": "stream",
     "text": [
      "[0.88845599 0.87455961 0.75346135 0.49637203 0.53932423]\n"
     ]
    }
   ],
   "source": [
    "a = np.random.rand(5)\n",
    "print(a)"
   ]
  },
  {
   "cell_type": "markdown",
   "metadata": {},
   "source": [
    "En lo que sigue, se realizarán varias operacións de troceado:"
   ]
  },
  {
   "cell_type": "code",
   "execution_count": null,
   "metadata": {},
   "outputs": [
    {
     "name": "stdout",
     "output_type": "stream",
     "text": [
      "Troceado usando '[:]' [0.88845599 0.87455961 0.75346135 0.49637203 0.53932423]\n",
      "Troceado usando '[1:3]': [0.87455961 0.75346135]\n",
      "Troceado usando '[2:-1]': [0.75346135 0.49637203]\n",
      "Troceado usando '[2:-2]': [0.75346135]\n"
     ]
    }
   ],
   "source": [
    "# Usar ':' implica el conjunto entero en el rango de los índices, es decir, desde 0 hasta (longitud-1)\n",
    "b = a[:]\n",
    "print(\"Troceado usando '[:]' {}\".format(b))\n",
    "\n",
    "# Usar '1:3' implica los índices 1 -> 3 (sin incluir a 3)\n",
    "b = a[1:3]\n",
    "print(\"Troceado usando '[1:3]': {}\".format(b))\n",
    "\n",
    "# Usar '2:-1' implica los índices 2 -> el segundo desde el final (sin incluirlo)\n",
    "b = a[2:-1]\n",
    "print(\"Troceado usando '[2:-1]': {}\".format(b))\n",
    "\n",
    "# Usar '2:-2' implica los índices 2 -> el tercero desde el final (sin incluirlo)\n",
    "b = a[2:-2]\n",
    "print(\"Troceado usando '[2:-2]': {}\".format(b))"
   ]
  },
  {
   "cell_type": "markdown",
   "metadata": {},
   "source": [
    "> **NOTA**: el uso del índice `-1` corresponde al último elemento del vector. De manera similar, el índice `-2` está vinculado al segundo elemento comenzando desde el final, etc. Esta convención de referenciar índices desde el final de un vector es muy útil ya que con el uso de estos índices negativos, uno puede hacer referencia a los últimos coeficientes de un vector sin tener que referirse explícitamente al tamaño del vector."
   ]
  },
  {
   "cell_type": "markdown",
   "metadata": {},
   "source": [
    "Si desea cortar un vector desde el principio o el final, debe utilizar la sintaxis de índice con '`:`'"
   ]
  },
  {
   "cell_type": "code",
   "execution_count": null,
   "metadata": {},
   "outputs": [
    {
     "name": "stdout",
     "output_type": "stream",
     "text": [
      "Troceado usando '[:3]': [0.88845599 0.87455961 0.75346135]\n",
      "Troceado usando '[4:]': [0.53932423]\n",
      "Troceado usando '[:]': [0.88845599 0.87455961 0.75346135 0.49637203 0.53932423]\n"
     ]
    }
   ],
   "source": [
    "# Usar ':3' implica usar índices desde el comienzo hasta 3 (sin incluir el índice 3)\n",
    "b = a[:3]\n",
    "print(\"Troceado usando '[:3]': {}\".format(b))\n",
    "\n",
    "# Usar '4:' imlica os índices desde 4 -> hasta el final\n",
    "b = a[4:]\n",
    "print(\"Troceado usando '[4:]': {}\".format(b))\n",
    "\n",
    "# Usar ':' implica todos os índices desde el comienzo hasta el final\n",
    "b = a[:]\n",
    "print(\"Troceado usando '[:]': {}\".format(b))"
   ]
  },
  {
   "cell_type": "markdown",
   "metadata": {},
   "source": [
    "El troceado también se puede aplicar sobre matrices:"
   ]
  },
  {
   "cell_type": "code",
   "execution_count": null,
   "metadata": {},
   "outputs": [
    {
     "name": "stdout",
     "output_type": "stream",
     "text": [
      "[[1.3 0. ]\n",
      " [0.  2. ]]\n",
      "[0. 2.]\n",
      "[1.3 0. ]\n"
     ]
    }
   ],
   "source": [
    "B = np.array([[1.3, 0], [0, 2.0]])\n",
    "print(B)\n",
    "\n",
    "# Extraer la segunda fila\n",
    "row = B[1, :]\n",
    "print(row)\n",
    "\n",
    "# Extraer la primera columna (almacenada en un vector fila)\n",
    "col = B[:, 0] \n",
    "print(col)"
   ]
  },
  {
   "cell_type": "markdown",
   "metadata": {},
   "source": [
    "Hay muchas otras estrategias y sintaxis relacionadas con el corte vectorial, que están más allá del alcance de esta breve introducción a **Numpy**. Para obtener información más detallada, puede consultar: https://docs.scipy.org/doc/numpy/reference/arrays.indexing.html"
   ]
  },
  {
   "cell_type": "markdown",
   "metadata": {},
   "source": [
    "# Ejercicio: Acelerando con Numpy el cálculo de normas vectoriales\n",
    "\n",
    "La norma euclidiana (o módulo) de un vector $\\vec{x}=(x_{0},\\ldots,x_{n-1})\\in\\mathbb{R}^{n}$ está dada por\n",
    "\n",
    "$$\n",
    "\\| x \\| = \\sqrt{\\sum_{i=0}^{n-1} x_{i} x_{i}}\n",
    "$$\n",
    "\n",
    "donde $x_{i}$ es el $i$-ésimo coeficiente de $\\vec{x}$. En resumen, su norma no es más que el cálculo del producto interno por sí mismo, seguido del cálculo de una raíz cuadrada. Para calcular el valor de la norma se pueden seguir diferentes estrategias: la primera de ellas puede ser utilizar un bucle para iterar sobre todos los coeficientes del vector y sumar el cuadrado de cada coeficiente. Luego toma la suma de todas estas cantidades y calcula la raíz cuadrada.\n",
    "\n",
    "Para evaluar el rendimiento computacional de esta implementación, tomaremos un vector de longitud 10 millones y calcularemos el tiempo de cálculo:"
   ]
  },
  {
   "cell_type": "code",
   "execution_count": null,
   "metadata": {},
   "outputs": [
    {
     "name": "stdout",
     "output_type": "stream",
     "text": [
      "<class 'numpy.ndarray'>\n"
     ]
    }
   ],
   "source": [
    "# Crear un vector NumPy con 10 millones de valores aleatorios\n",
    "x = np.random.rand(10000000)\n",
    "print(type(x))"
   ]
  },
  {
   "cell_type": "code",
   "execution_count": 29,
   "metadata": {},
   "outputs": [
    {
     "name": "stdout",
     "output_type": "stream",
     "text": [
      "CPU times: user 3.19 s, sys: 15.6 ms, total: 3.2 s\n",
      "Wall time: 3.2 s\n",
      "1825.7437030008014\n"
     ]
    }
   ],
   "source": [
    "def compute_norm(x):\n",
    "    norm = 0.0\n",
    "    for xi in x:\n",
    "        norm += xi*xi\n",
    "    return np.sqrt(norm)\n",
    "\n",
    "%time norm = compute_norm(x)\n",
    "print(norm)"
   ]
  },
  {
   "cell_type": "markdown",
   "metadata": {},
   "source": [
    "El tiempo de cálculo que nos interesa es el que aparece bajo la etiqueta 'Wall time'.\n",
    "\n",
    "> **NOTA**: Los detalles de cómo funciona la etiqueta `%time` en este script no son importantes en este curso. Debemos indicar que esta forma de proceder sólo es válida para consolas o archivos que corran bajo entornos de servidores [I]Python y Jupyter. Esta forma de trabajar es muy compacta y conveniente para medir el tiempo necesario para completar la ejecución de una línea de código."
   ]
  },
  {
   "cell_type": "markdown",
   "metadata": {},
   "source": [
    "### **Ejercicio**\n",
    "Utilizando la misma implementación basada en bucles, acceda a cada elemento del vector por su índice comenzando desde el primero hasta el último. Haga lo mismo con un bucle que acceda en orden inverso, del último al primero."
   ]
  },
  {
   "cell_type": "code",
   "execution_count": null,
   "metadata": {},
   "outputs": [],
   "source": [
    "# TU CÓDIGO AQUÍ\n"
   ]
  },
  {
   "cell_type": "markdown",
   "metadata": {},
   "source": [
    "### **Ejercicio**\n",
    "Intente utilizar funciones **Numpy** para definir una función que evite recorrer los coeficientes del vector y no acceda elemento por elemento en el vector (versión vectorizada)."
   ]
  },
  {
   "cell_type": "code",
   "execution_count": null,
   "metadata": {},
   "outputs": [],
   "source": [
    "# TU CÓDIGO AQUÍ\n"
   ]
  },
  {
   "cell_type": "markdown",
   "metadata": {},
   "source": [
    "### **Ejercicio**\n",
    "Compare los tiempos de cálculo de las cuatro implementaciones para diferentes dimensiones del vector $\\vec{x}$, de tamaños $10$, $10^3$, $10^5$, $10^7$. De estos tiempos de cálculo: ¿qué se puede deducir como conclusión?"
   ]
  },
  {
   "cell_type": "code",
   "execution_count": null,
   "metadata": {},
   "outputs": [],
   "source": [
    "# TU CÓDIGO AQUÍ\n"
   ]
  }
 ],
 "metadata": {
  "kernelspec": {
   "display_name": "Python 3",
   "language": "python",
   "name": "python3"
  },
  "language_info": {
   "codemirror_mode": {
    "name": "ipython",
    "version": 3
   },
   "file_extension": ".py",
   "mimetype": "text/x-python",
   "name": "python",
   "nbconvert_exporter": "python",
   "pygments_lexer": "ipython3",
   "version": "3.8.5"
  }
 },
 "nbformat": 4,
 "nbformat_minor": 4
}

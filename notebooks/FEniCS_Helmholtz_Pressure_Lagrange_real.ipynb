{
 "cells": [
  {
   "cell_type": "markdown",
   "metadata": {},
   "source": [
    "# Software profesional en Acústica 2024-25 (M2i)\n",
    "\n",
    "*This notebook contains a modification of the notebook [FEM_Helmholtz_equation](https://github.com/spatialaudio/computational_acoustics/blob/master/FEM_Helmholtz_equation.ipynb), created by Sascha Spors, Frank Schultz, Computational Acoustics Examples, 2018. The text/images are licensed under [Creative Commons Attribution 4.0](https://creativecommons.org/licenses/by/4.0/). The code is released under the [MIT license](https://opensource.org/licenses/MIT).*"
   ]
  },
  {
   "cell_type": "markdown",
   "metadata": {},
   "source": [
    "First, we need to install on the fly FEniCS 2019.1.0 using the [FEM on Colab](https://fem-on-colab.github.io/packages.html) install script:"
   ]
  },
  {
   "cell_type": "code",
   "execution_count": 1,
   "metadata": {},
   "outputs": [],
   "source": [
    "try:\n",
    "    import dolfin\n",
    "except ImportError:\n",
    "    !wget \"https://fem-on-colab.github.io/releases/fenics-install-release-real.sh\" -O \"/tmp/fenics-install.sh\" && bash \"/tmp/fenics-install.sh\""
   ]
  },
  {
   "cell_type": "markdown",
   "metadata": {},
   "source": [
    "# Revisiting the numerical solution of the Helmholtz equation: FEM and planewaves"
   ]
  },
  {
   "cell_type": "markdown",
   "metadata": {},
   "source": [
    "This notebook illustrates the numerical solution of the wave equation for harmonic excitation using the so called [Finite Element Method](https://en.wikipedia.org/wiki/Finite_element_method) (FEM). The method aims at an approximate solution by subdividing the area of interest into smaller parts with simpler geometry, linking these parts together and applying methods from the calculus of variations to solve the problem numerically. The FEM is a well established method for the numerical approximation of the solution of partial differential equations (PDEs). The solutions of PDEs are often known analytically only for rather simple geometries. FEM based simulations allow to gain insights into other more complex cases."
   ]
  },
  {
   "cell_type": "markdown",
   "metadata": {},
   "source": [
    "## Problem Statement\n",
    "\n",
    "The inhomogeneous linear [wave equation](https://en.wikipedia.org/wiki/Wave_equation) is given as\n",
    "\n",
    "\\begin{equation*}\n",
    "\\Delta p(\\boldsymbol{x}, t) - \\frac{1}{c^2} \\frac{\\partial^2}{\\partial t^2} p(\\boldsymbol{x}, t) = - f(\\boldsymbol{x}, t) ,\n",
    "\\end{equation*}\n",
    "\n",
    "where $p(\\boldsymbol{x}, t)$ denotes the sound pressure at position $\\boldsymbol{x}$, $c$ the speed of sound and $f(\\boldsymbol{x}, t)$ the inhomogeneity.\n",
    "For an harmonic excitation $f(\\boldsymbol{x}, t) = \\Re \\{ F(\\boldsymbol{x}, \\omega) \\mathrm{e}^{\\mathrm{j} \\omega t} \\}$ with frequency $\\omega = 2 \\pi f$ we choose the Ansatz $p(\\boldsymbol{x}, t) = \\Re \\{ P(\\boldsymbol{x}, \\omega) \\mathrm{e}^{\\mathrm{j} \\omega t} \\}$ for the sound pressure.\n",
    "Introduction of the complex quantities into the wave equation yields\n",
    "\n",
    "\\begin{equation*}\n",
    "\\Delta P(\\boldsymbol{x}, \\omega) \\mathrm{e}^{\\mathrm{j} \\omega t} + \\frac{\\omega^2}{c^2} P(\\boldsymbol{x}, \\omega) \\mathrm{e}^{\\mathrm{j} \\omega t} = - F(\\boldsymbol{x}, \\omega) \\mathrm{e}^{\\mathrm{j} \\omega t} ,\n",
    "\\end{equation*}\n",
    "\n",
    "and canceling out the $\\mathrm{e}^{\\mathrm{j} \\omega t}$ terms yields the [Helmholtz equation](https://en.wikipedia.org/wiki/Helmholtz_equation)\n",
    "\n",
    "\\begin{equation*}\n",
    "\\Delta P(\\boldsymbol{x}, \\omega) + \\frac{\\omega^2}{c^2} P(\\boldsymbol{x}, \\omega) = - F(\\boldsymbol{x}, \\omega) .\n",
    "\\end{equation*}\n",
    "\n",
    "We aim for a numerical solution of the Helmholtz equation on the domain $\\Omega$ with respect to the homogeneous Dirichlet boundary condition\n",
    "\n",
    "\\begin{equation*}\n",
    "P(\\boldsymbol{x}, \\omega) = P_{D} \\qquad \\text{for } \\boldsymbol{x} \\in \\partial \\Omega\n",
    "\\end{equation*}\n",
    "\n",
    "where $P_{D}$ is the Dirichlet data."
   ]
  },
  {
   "cell_type": "markdown",
   "metadata": {},
   "source": [
    "## Variational Formulation\n",
    "\n",
    "The FEM is based on expressing the partial differential equation (PDE) to be solved in its [variational](https://en.wikipedia.org/wiki/Calculus_of_variations) or weak form.\n",
    "The first step towards this formulation is to multiply the Helmholtz equation by the test function $Q(\\boldsymbol{x}, \\omega)$\n",
    "\n",
    "\\begin{equation*}\n",
    "\\Delta P(\\boldsymbol{x}, \\omega)Q(\\boldsymbol{x}, \\omega)  + \\frac{\\omega^2}{c^2} P(\\boldsymbol{x}, \\omega) Q(\\boldsymbol{x}, \\omega) = - F(\\boldsymbol{x}, \\omega)  Q(\\boldsymbol{x}, \\omega) ,\n",
    "\\end{equation*}\n",
    "\n",
    "followed by integration over the domain $V$\n",
    "\n",
    "\\begin{equation*}\n",
    "\\int_\\Omega \\Delta P(\\boldsymbol{x}, \\omega)  Q(\\boldsymbol{x}, \\omega) \\mathrm{d}x  + \\frac{\\omega^2}{c^2} \\int_\\Omega P(\\boldsymbol{x}, \\omega)  Q(\\boldsymbol{x}, \\omega) \\mathrm{d}x = - \\int_\\Omega F(\\boldsymbol{x}, \\omega) Q(\\boldsymbol{x}, \\omega) \\mathrm{d}x ,\n",
    "\\end{equation*}\n",
    "\n",
    "where $\\mathrm{d}x$ denotes a suitably chosen differential element for integration.\n",
    "Application of [Green's first identity](https://en.wikipedia.org/wiki/Green%27s_identities) yields\n",
    "\n",
    "\\begin{equation*}\n",
    "{-} \\int_\\Omega \\nabla P(\\boldsymbol{x}, \\omega) \\cdot \\nabla Q(\\boldsymbol{x}, \\omega) \\mathrm{d}x  + \\int_{\\partial \\Omega} Q(\\boldsymbol{x}, \\omega) \\frac{\\partial}{\\partial n}  P(\\boldsymbol{x}, \\omega) \\mathrm{d}s + \\frac{\\omega^2}{c^2} \\int_\\Omega P(\\boldsymbol{x}, \\omega) Q(\\boldsymbol{x}, \\omega) \\mathrm{d}x = - \\int_\\Omega F(\\boldsymbol{x}, \\omega) Q(\\boldsymbol{x}, \\omega) \\mathrm{d}x .\n",
    "\\end{equation*}\n",
    "\n",
    "This way the differential order of the first integral is lowered which is advisable for application of the FEM.\n",
    "The second integral vanishes as \n",
    "\n",
    "* the variation formulation requires $Q(\\boldsymbol{x}, \\omega) = 0$ on $\\partial \\Omega$ where $P(\\boldsymbol{x}, \\omega)$ is known - here by the pure Dirichlet boundary condition \n",
    "\n",
    "This results in the variational/weak formulation of the Helmholtz equation\n",
    "\n",
    "\\begin{equation*}\n",
    "{-} \\int_\\Omega \\nabla P(\\boldsymbol{x}, \\omega) \\cdot \\nabla Q(\\boldsymbol{x}, \\omega) \\mathrm{d}x  + \\frac{\\omega^2}{c^2} \\int_\\Omega P(\\boldsymbol{x}, \\omega) Q(\\boldsymbol{x}, \\omega) \\mathrm{d}x = - \\int_\\Omega F(\\boldsymbol{x}, \\omega) Q(\\boldsymbol{x}, \\omega) \\mathrm{d}x .\n",
    "\\end{equation*}\n",
    "\n",
    "It is common to express the integral equation above in terms of the bilinear $a(P, Q)$ and linear $L(Q)$ forms \n",
    "\n",
    "\\begin{equation*}\n",
    "a(P, Q) = \\frac{\\omega^2}{c^2} \\int_\\Omega P(\\boldsymbol{x}, \\omega) Q(\\boldsymbol{x}, \\omega) \\mathrm{d}x - \\int_\\Omega \\nabla P(\\boldsymbol{x}, \\omega) \\cdot \\nabla Q(\\boldsymbol{x}, \\omega) \\mathrm{d}x ,\n",
    "\\end{equation*}\n",
    "\n",
    "\\begin{equation*}\n",
    "L(Q) = - \\int_\\Omega F(\\boldsymbol{x}, \\omega) Q(\\boldsymbol{x}, \\omega) \\mathrm{d}x ,\n",
    "\\end{equation*}\n",
    "\n",
    "where\n",
    "\n",
    "\\begin{equation*}\n",
    "a(P, Q) = L(Q)\\qquad \\forall Q .\n",
    "\\end{equation*}"
   ]
  },
  {
   "cell_type": "markdown",
   "metadata": {},
   "source": [
    "## Numerical Solution\n",
    "\n",
    "The numerical solution of the variational problem is based on [FEniCS](https://fenicsproject.org/), an open-source framework for numerical solution of PDEs.\n",
    "Its high-level Python interface `dolfin` is used in the following to define the problem and compute its solution.\n",
    "The implementation is based on the variational formulation derived above.\n",
    "It is common in the FEM to denote the solution of the problem by $u$ and the test function by $v$.\n",
    "The definition of the problem in FEniCS is very close to the mathematical formulation of the problem.\n",
    "We limit ourselves to real-valued $P(\\boldsymbol{x}, \\omega)$ due to the assumption of Dirichlet real data.\n",
    "\n",
    "A function is defined for this purpose, accompanied by a plotting routine for the resulting sound field."
   ]
  },
  {
   "cell_type": "code",
   "execution_count": 6,
   "metadata": {},
   "outputs": [],
   "source": [
    "import numpy as np\n",
    "import dolfin\n",
    "import mshr\n",
    "import matplotlib.pyplot as plt\n",
    "\n",
    "# Compute the Finite Element approximation\n",
    "def FEM_Helmholtz(mesh, frequency, dirichlet_data, c=343):\n",
    "    '''numerical solution of the Helmholtz equation using the FEM'''\n",
    "    \n",
    "    # squared wavenumber\n",
    "    k2 = dolfin.Constant(2*dolfin.pi*frequency/c)**2\n",
    "    \n",
    "    # define function space\n",
    "    V = dolfin.FunctionSpace(mesh, \"CG\", 2)\n",
    "\n",
    "    # define boundary conditions\n",
    "    bcs = dolfin.DirichletBC(V, dirichlet_data, \"on_boundary\")\n",
    "    \n",
    "    # define variational problem\n",
    "    u = dolfin.TrialFunction(V)\n",
    "    v = dolfin.TestFunction(V)\n",
    "\n",
    "    a = k2 * dolfin.inner(u, v) * dolfin.dx - dolfin.inner(dolfin.nabla_grad(u), dolfin.nabla_grad(v)) * dolfin.dx\n",
    "    L = dolfin.Constant(0) * v * dolfin.dx\n",
    "    \n",
    "    # Assemble the linear system of equations\n",
    "    A, b = dolfin.assemble_system(a, L, bcs)\n",
    "\n",
    "    # compute solution\n",
    "    u = dolfin.Function(V)\n",
    "    dolfin.solve(A, u.vector(), b)\n",
    "\n",
    "    return u, V\n",
    "\n",
    "# Compute the Finite Element error\n",
    "def compute_error(u, uex, V):\n",
    "    uex_interp = dolfin.interpolate(uex, V)\n",
    "    return dolfin.errornorm(uex_interp, u)/dolfin.norm(uex_interp)\n",
    "\n",
    "\n",
    "# Plot the Finite Element approximation\n",
    "def plot_soundfield(u):\n",
    "    '''plot solution of FEM-based simulation'''\n",
    "    fig = plt.figure(figsize=(10,10))\n",
    "    fig = dolfin.plot(u)\n",
    "    plt.title(r'$P(\\mathbf{x}, \\omega)$')\n",
    "    plt.xlabel(r'$x$ / m')\n",
    "    plt.ylabel(r'$y$ / m')\n",
    "    plt.colorbar(fig, fraction=0.038, pad=0.04);"
   ]
  },
  {
   "cell_type": "markdown",
   "metadata": {},
   "source": [
    "### Sound Field in a Rectangular Room with Sound-soft Boundaries\n",
    "\n",
    "The two-dimensional sound field in a rectangular room whose height is very small compared to the wavelength and with soft boundaries (Dirichlet boundary condition) is computed for the frequency $f=120$ Hz. The Dirichlet data is settled in such a manner that the exact solution is the real part of a plane wave\n",
    "$$\n",
    "P_{ex}(\\boldsymbol{x}, \\omega)=\\cos(k_{0}x_0+k_{1}x_{1}),\\qquad (k_0,k_1)=\\frac{\\omega}{c}(\\cos\\theta,\\sin\\theta),\\qquad \\theta=\\frac{\\pi}{4}.\n",
    "$$"
   ]
  },
  {
   "cell_type": "code",
   "execution_count": 5,
   "metadata": {},
   "outputs": [
    {
     "name": "stdout",
     "output_type": "stream",
     "text": [
      "L2-relative error: 3.1335849604778276e-07\n"
     ]
    },
    {
     "data": {
      "image/png": "[encoded data removed]",
      "text/plain": [
       "<Figure size 720x720 with 2 Axes>"
      ]
     },
     "metadata": {
      "needs_background": "light"
     },
     "output_type": "display_data"
    }
   ],
   "source": [
    "# define geometry and mesh\n",
    "mesh = dolfin.RectangleMesh(dolfin.Point(0,0), dolfin.Point(5,4), 200, 200, \"right/left\")\n",
    "\n",
    "# Physical data\n",
    "freq = 120.\n",
    "c = 343.\n",
    "\n",
    "# Exact solution: plane wave with wavenumber vector (k0,k1)\n",
    "theta = np.pi/4\n",
    "k0 = 2*np.pi*freq/c*np.cos(theta)\n",
    "k1 = 2*np.pi*freq/c*np.sin(theta)\n",
    "uex = dolfin.Expression(\"cos(k0*x[0]+k1*x[1])\", k0=k0, k1=k1, degree=5)\n",
    "\n",
    "# compute solution\n",
    "u, V = FEM_Helmholtz(mesh, freq, uex, c)\n",
    "\n",
    "# compute error\n",
    "print('L2-relative error:', compute_error(u, uex, V))\n",
    "\n",
    "# plot sound field\n",
    "plot_soundfield(u)\n",
    "plt.title(r'$|P(\\mathbf{x}, \\omega)|$');"
   ]
  },
  {
   "cell_type": "markdown",
   "metadata": {},
   "source": [
    "### Study of convergence\n",
    "\n",
    "Let's check the order of convergence of this finite element discretization computing the error for sucesive refinements of the mesh"
   ]
  },
  {
   "cell_type": "code",
   "execution_count": 7,
   "metadata": {},
   "outputs": [
    {
     "name": "stdout",
     "output_type": "stream",
     "text": [
      "Mesh size 0.12806248474865742\n",
      "L2-relative error: 2.3773320820502896e-05\n",
      "Mesh size 0.06403124237432907\n",
      "L2-relative error: 2.6066554618907065e-06\n",
      "Mesh size 0.032015621187164535\n",
      "L2-relative error: 3.1335849604778276e-07\n"
     ]
    }
   ],
   "source": [
    "# Mesh 50,50\n",
    "mesh = dolfin.RectangleMesh(dolfin.Point(0,0), dolfin.Point(5,4), 50, 50, \"right/left\")\n",
    "u, V = FEM_Helmholtz(mesh, freq, uex, c)\n",
    "print('Mesh size', mesh.hmax())\n",
    "print('L2-relative error:', compute_error(u, uex, V))\n",
    "# Mesh 50,50\n",
    "mesh = dolfin.RectangleMesh(dolfin.Point(0,0), dolfin.Point(5,4), 100, 100, \"right/left\")\n",
    "u, V = FEM_Helmholtz(mesh, freq, uex, c)\n",
    "print('Mesh size', mesh.hmax())\n",
    "print('L2-relative error:', compute_error(u, uex, V))\n",
    "# Mesh 50,50\n",
    "mesh = dolfin.RectangleMesh(dolfin.Point(0,0), dolfin.Point(5,4), 200, 200, \"right/left\")\n",
    "u, V = FEM_Helmholtz(mesh, freq, uex, c)\n",
    "print('Mesh size', mesh.hmax())\n",
    "print('L2-relative error:', compute_error(u, uex, V))"
   ]
  },
  {
   "cell_type": "markdown",
   "metadata": {},
   "source": [
    "**Copyright**\n",
    "\n",
    "This notebook is provided as [Open Educational Resource](https://en.wikipedia.org/wiki/Open_educational_resources). Feel free to use the notebook for your own purposes. The text is licensed under [Creative Commons Attribution 4.0](https://creativecommons.org/licenses/by/4.0/), the code of the IPython examples under the [MIT license](https://opensource.org/licenses/MIT)."
   ]
  }
 ],
 "metadata": {
  "kernelspec": {
   "display_name": "Python 3",
   "language": "python",
   "name": "python3"
  },
  "language_info": {
   "codemirror_mode": {
    "name": "ipython",
    "version": 3
   },
   "file_extension": ".py",
   "mimetype": "text/x-python",
   "name": "python",
   "nbconvert_exporter": "python",
   "pygments_lexer": "ipython3",
   "version": "3.8.10"
  }
 },
 "nbformat": 4,
 "nbformat_minor": 2
}
